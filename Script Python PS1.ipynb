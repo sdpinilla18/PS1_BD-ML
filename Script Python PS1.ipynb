{
 "cells": [
  {
   "cell_type": "markdown",
   "metadata": {},
   "source": [
    "## Problem Set 1 - BDMLAE"
   ]
  },
  {
   "cell_type": "code",
   "execution_count": 11,
   "metadata": {},
   "outputs": [],
   "source": [
    "import pandas as pd\n",
    "import numpy as np\n",
    "import pyreadr as pyr\n",
    "import scipy as sc\n",
    "from scipy.stats import bootstrap"
   ]
  },
  {
   "cell_type": "markdown",
   "metadata": {},
   "source": [
    "### Cleaning"
   ]
  },
  {
   "cell_type": "code",
   "execution_count": null,
   "metadata": {},
   "outputs": [],
   "source": [
    "df1=df1.drop(df1[df1.age<=18].index)\n",
    "df1=df1.drop(df1[df1.dsi==0].index)\n",
    "df1=(df1[[\"age\", \"clase\", \"p6210\", \"cuentaPropia\", \"depto\", \"sizeFirm\", \"oficio\", \"hoursWorkUsual\", \"formal\", \"ingtot\", \"mes\", \n",
    "\"estrato1\", \"sex\", \"p6090\", \"p6100\", \"p6426\", \"p7050\", \"p7110\", \"p7500s2a1\", \"p7510s1a1\", \"p7510s7\", \"y_accidentes_m\", \"y_salary_m\", \"y_salarySec_m\", \n",
    "\"fex_c\", \"fex_dpto\"]])"
   ]
  },
  {
   "cell_type": "code",
   "execution_count": 13,
   "metadata": {},
   "outputs": [
    {
     "data": {
      "text/plain": [
       "count    32177.000000\n",
       "mean        34.398701\n",
       "std         20.880512\n",
       "min          0.000000\n",
       "25%         18.000000\n",
       "50%         32.000000\n",
       "75%         50.000000\n",
       "max        106.000000\n",
       "Name: age, dtype: float64"
      ]
     },
     "execution_count": 13,
     "metadata": {},
     "output_type": "execute_result"
    }
   ],
   "source": [
    "df1[\"age\"].describe()"
   ]
  }
 ],
 "metadata": {
  "kernelspec": {
   "display_name": "Python 3.9.5 64-bit",
   "language": "python",
   "name": "python3"
  },
  "language_info": {
   "codemirror_mode": {
    "name": "ipython",
    "version": 3
   },
   "file_extension": ".py",
   "mimetype": "text/x-python",
   "name": "python",
   "nbconvert_exporter": "python",
   "pygments_lexer": "ipython3",
   "version": "3.9.5"
  },
  "orig_nbformat": 4,
  "vscode": {
   "interpreter": {
    "hash": "49ddeada2ee2df7166b571c9e368908a4f8922a13c50c855ca8273e94b31b98f"
   }
  }
 },
 "nbformat": 4,
 "nbformat_minor": 2
}
