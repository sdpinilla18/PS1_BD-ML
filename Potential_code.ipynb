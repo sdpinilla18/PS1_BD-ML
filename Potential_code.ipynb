{
 "cells": [
  {
   "cell_type": "markdown",
   "metadata": {},
   "source": [
    "## Problem Set 1 - BDMLAE"
   ]
  },
  {
   "cell_type": "code",
   "execution_count": 1,
   "metadata": {},
   "outputs": [],
   "source": [
    "#Packages:\n",
    "import pandas as pd\n",
    "import numpy as np\n",
    "import pyreadr as pyr\n",
    "import sklearn as sk\n",
    "import scipy as sc\n",
    "from sklearn.linear_model import LinearRegression\n",
    "from sklearn.model_selection import train_test_split\n",
    "import statsmodels.api as sm\n",
    "from sklearn.metrics import mean_squared_error\n",
    "from matplotlib import pyplot as plt\n",
    "import seaborn as sns\n",
    "from bootstrap_stat import bootstrap_stat as bp\n",
    "from scipy.stats import bootstrap\n",
    "from sklearn.impute import KNNImputer"
   ]
  },
  {
   "cell_type": "code",
   "execution_count": 2,
   "metadata": {},
   "outputs": [
    {
     "name": "stdout",
     "output_type": "stream",
     "text": [
      "odict_keys(['df'])\n"
     ]
    }
   ],
   "source": [
    "#Setting work space and master data frame:\n",
    "bd=pyr.read_r(\"bdPS1.Rdata\")\n",
    "print(bd.keys()) #Load database.\n",
    "df0=bd[\"df\"]\n",
    "df=df0.drop(df0[df0.age<18].index) #Restrict the data to legal age individuals (age>=18).\n",
    "df=df.drop(df[df.ocu==0].index) #Restrict the data to employed individuals (ocu==1).\n",
    "dfsi=(df[[\"age\", \"maxEducLevel\", \"sizeFirm\", \"oficio\", \"hoursWorkUsual\", \"formal\", \"ingtot\", \"mes\", \"estrato1\", \"sex\", \n",
    "\"regSalud\", \"p6426\", \"p7090\",\"p7510s7a1\", \"impa\", \"isa\", \"impaes\", \"isaes\", \"relab\"]]) #Relevant variables selection. "
   ]
  },
  {
   "cell_type": "code",
   "execution_count": 3,
   "metadata": {},
   "outputs": [
    {
     "name": "stderr",
     "output_type": "stream",
     "text": [
      "C:\\Users\\juand\\AppData\\Local\\Temp/ipykernel_4376/2900239718.py:2: SettingWithCopyWarning: \n",
      "A value is trying to be set on a copy of a slice from a DataFrame\n",
      "\n",
      "See the caveats in the documentation: https://pandas.pydata.org/pandas-docs/stable/user_guide/indexing.html#returning-a-view-versus-a-copy\n",
      "  dfsi[\"impa\"].replace(0, 1, inplace=True)\n",
      "C:\\Users\\juand\\AppData\\Local\\Temp/ipykernel_4376/2900239718.py:3: SettingWithCopyWarning: \n",
      "A value is trying to be set on a copy of a slice from a DataFrame\n",
      "\n",
      "See the caveats in the documentation: https://pandas.pydata.org/pandas-docs/stable/user_guide/indexing.html#returning-a-view-versus-a-copy\n",
      "  dfsi[\"impa\"].replace(np.nan, 0, inplace=True)\n",
      "C:\\Users\\juand\\AppData\\Local\\Temp/ipykernel_4376/2900239718.py:4: SettingWithCopyWarning: \n",
      "A value is trying to be set on a copy of a slice from a DataFrame\n",
      "\n",
      "See the caveats in the documentation: https://pandas.pydata.org/pandas-docs/stable/user_guide/indexing.html#returning-a-view-versus-a-copy\n",
      "  dfsi[\"impaes\"].replace(0, 1, inplace=True)\n",
      "C:\\Users\\juand\\AppData\\Local\\Temp/ipykernel_4376/2900239718.py:5: SettingWithCopyWarning: \n",
      "A value is trying to be set on a copy of a slice from a DataFrame\n",
      "\n",
      "See the caveats in the documentation: https://pandas.pydata.org/pandas-docs/stable/user_guide/indexing.html#returning-a-view-versus-a-copy\n",
      "  dfsi[\"impaes\"].replace(np.nan, 0, inplace=True)\n",
      "C:\\Users\\juand\\AppData\\Local\\Temp/ipykernel_4376/2900239718.py:6: SettingWithCopyWarning: \n",
      "A value is trying to be set on a copy of a slice from a DataFrame\n",
      "\n",
      "See the caveats in the documentation: https://pandas.pydata.org/pandas-docs/stable/user_guide/indexing.html#returning-a-view-versus-a-copy\n",
      "  dfsi[\"isa\"].replace(0, 1, inplace=True)\n",
      "C:\\Users\\juand\\AppData\\Local\\Temp/ipykernel_4376/2900239718.py:7: SettingWithCopyWarning: \n",
      "A value is trying to be set on a copy of a slice from a DataFrame\n",
      "\n",
      "See the caveats in the documentation: https://pandas.pydata.org/pandas-docs/stable/user_guide/indexing.html#returning-a-view-versus-a-copy\n",
      "  dfsi[\"isa\"].replace(np.nan, 0, inplace=True)\n",
      "C:\\Users\\juand\\AppData\\Local\\Temp/ipykernel_4376/2900239718.py:8: SettingWithCopyWarning: \n",
      "A value is trying to be set on a copy of a slice from a DataFrame\n",
      "\n",
      "See the caveats in the documentation: https://pandas.pydata.org/pandas-docs/stable/user_guide/indexing.html#returning-a-view-versus-a-copy\n",
      "  dfsi[\"isaes\"].replace(0, 1, inplace=True)\n",
      "C:\\Users\\juand\\AppData\\Local\\Temp/ipykernel_4376/2900239718.py:9: SettingWithCopyWarning: \n",
      "A value is trying to be set on a copy of a slice from a DataFrame\n",
      "\n",
      "See the caveats in the documentation: https://pandas.pydata.org/pandas-docs/stable/user_guide/indexing.html#returning-a-view-versus-a-copy\n",
      "  dfsi[\"isaes\"].replace(np.nan, 0, inplace=True)\n",
      "C:\\Users\\juand\\AppData\\Local\\Temp/ipykernel_4376/2900239718.py:12: SettingWithCopyWarning: \n",
      "A value is trying to be set on a copy of a slice from a DataFrame.\n",
      "Try using .loc[row_indexer,col_indexer] = value instead\n",
      "\n",
      "See the caveats in the documentation: https://pandas.pydata.org/pandas-docs/stable/user_guide/indexing.html#returning-a-view-versus-a-copy\n",
      "  dfsi[\"impacomp\"]=dfsi[\"impa\"]+dfsi[\"impaes\"]\n",
      "C:\\Users\\juand\\AppData\\Local\\Temp/ipykernel_4376/2900239718.py:13: SettingWithCopyWarning: \n",
      "A value is trying to be set on a copy of a slice from a DataFrame.\n",
      "Try using .loc[row_indexer,col_indexer] = value instead\n",
      "\n",
      "See the caveats in the documentation: https://pandas.pydata.org/pandas-docs/stable/user_guide/indexing.html#returning-a-view-versus-a-copy\n",
      "  dfsi[\"isacomp\"]=dfsi[\"isa\"]+dfsi[\"isaes\"]\n",
      "C:\\Users\\juand\\AppData\\Local\\Temp/ipykernel_4376/2900239718.py:16: SettingWithCopyWarning: \n",
      "A value is trying to be set on a copy of a slice from a DataFrame.\n",
      "Try using .loc[row_indexer,col_indexer] = value instead\n",
      "\n",
      "See the caveats in the documentation: https://pandas.pydata.org/pandas-docs/stable/user_guide/indexing.html#returning-a-view-versus-a-copy\n",
      "  dfsi['impacomp']=dfsi['impacomp'].replace(0,np.nan)\n",
      "C:\\Users\\juand\\AppData\\Local\\Temp/ipykernel_4376/2900239718.py:17: SettingWithCopyWarning: \n",
      "A value is trying to be set on a copy of a slice from a DataFrame.\n",
      "Try using .loc[row_indexer,col_indexer] = value instead\n",
      "\n",
      "See the caveats in the documentation: https://pandas.pydata.org/pandas-docs/stable/user_guide/indexing.html#returning-a-view-versus-a-copy\n",
      "  dfsi['isacomp']=dfsi['isacomp'].replace(0,np.nan)\n",
      "C:\\Users\\juand\\AppData\\Local\\Temp/ipykernel_4376/2900239718.py:18: SettingWithCopyWarning: \n",
      "A value is trying to be set on a copy of a slice from a DataFrame.\n",
      "Try using .loc[row_indexer,col_indexer] = value instead\n",
      "\n",
      "See the caveats in the documentation: https://pandas.pydata.org/pandas-docs/stable/user_guide/indexing.html#returning-a-view-versus-a-copy\n",
      "  dfsi['impacomp']=dfsi['impacomp'].replace(1, 0)\n",
      "C:\\Users\\juand\\AppData\\Local\\Temp/ipykernel_4376/2900239718.py:19: SettingWithCopyWarning: \n",
      "A value is trying to be set on a copy of a slice from a DataFrame.\n",
      "Try using .loc[row_indexer,col_indexer] = value instead\n",
      "\n",
      "See the caveats in the documentation: https://pandas.pydata.org/pandas-docs/stable/user_guide/indexing.html#returning-a-view-versus-a-copy\n",
      "  dfsi['isacomp']=dfsi['isacomp'].replace(1, 0)\n",
      "C:\\Users\\juand\\AppData\\Local\\Temp/ipykernel_4376/2900239718.py:20: SettingWithCopyWarning: \n",
      "A value is trying to be set on a copy of a slice from a DataFrame.\n",
      "Try using .loc[row_indexer,col_indexer] = value instead\n",
      "\n",
      "See the caveats in the documentation: https://pandas.pydata.org/pandas-docs/stable/user_guide/indexing.html#returning-a-view-versus-a-copy\n",
      "  dfsi['impacomp']=dfsi['impacomp'].replace(2, 0)\n",
      "C:\\Users\\juand\\AppData\\Local\\Temp/ipykernel_4376/2900239718.py:21: SettingWithCopyWarning: \n",
      "A value is trying to be set on a copy of a slice from a DataFrame.\n",
      "Try using .loc[row_indexer,col_indexer] = value instead\n",
      "\n",
      "See the caveats in the documentation: https://pandas.pydata.org/pandas-docs/stable/user_guide/indexing.html#returning-a-view-versus-a-copy\n",
      "  dfsi['isacomp']=dfsi['isacomp'].replace(2, 0)\n"
     ]
    },
    {
     "data": {
      "text/plain": [
       "age               0.000000\n",
       "maxEducLevel      0.000060\n",
       "sizeFirm          0.000000\n",
       "oficio            0.000000\n",
       "hoursWorkUsual    0.000000\n",
       "formal            0.000000\n",
       "ingtot            0.000000\n",
       "mes               0.000000\n",
       "estrato1          0.000000\n",
       "sex               0.000000\n",
       "regSalud          0.085842\n",
       "p6426             0.000000\n",
       "p7090             0.000000\n",
       "p7510s7a1         0.000000\n",
       "impa              0.000000\n",
       "isa               0.000000\n",
       "impaes            0.000000\n",
       "isaes             0.000000\n",
       "relab             0.000000\n",
       "impacomp          0.014992\n",
       "isacomp           0.001874\n",
       "dtype: float64"
      ]
     },
     "execution_count": 3,
     "metadata": {},
     "output_type": "execute_result"
    }
   ],
   "source": [
    "#Reassining variables codification:\n",
    "dfsi[\"impa\"].replace(0, 1, inplace=True)\n",
    "dfsi[\"impa\"].replace(np.nan, 0, inplace=True)\n",
    "dfsi[\"impaes\"].replace(0, 1, inplace=True)\n",
    "dfsi[\"impaes\"].replace(np.nan, 0, inplace=True)\n",
    "dfsi[\"isa\"].replace(0, 1, inplace=True)\n",
    "dfsi[\"isa\"].replace(np.nan, 0, inplace=True)\n",
    "dfsi[\"isaes\"].replace(0, 1, inplace=True)\n",
    "dfsi[\"isaes\"].replace(np.nan, 0, inplace=True)\n",
    "\n",
    "#Create compiled variables:\n",
    "dfsi[\"impacomp\"]=dfsi[\"impa\"]+dfsi[\"impaes\"]\n",
    "dfsi[\"isacomp\"]=dfsi[\"isa\"]+dfsi[\"isaes\"]\n",
    "\n",
    "#Recover missing values: \n",
    "dfsi['impacomp']=dfsi['impacomp'].replace(0,np.nan)\n",
    "dfsi['isacomp']=dfsi['isacomp'].replace(0,np.nan)\n",
    "dfsi['impacomp']=dfsi['impacomp'].replace(1, 0)\n",
    "dfsi['isacomp']=dfsi['isacomp'].replace(1, 0)\n",
    "dfsi['impacomp']=dfsi['impacomp'].replace(2, 0)\n",
    "dfsi['isacomp']=dfsi['isacomp'].replace(2, 0)\n",
    "\n",
    "#Missing values count/share. \n",
    "dfsi.isnull().sum() \n",
    "dfsi.isnull().sum()/len(dfsi) "
   ]
  },
  {
   "cell_type": "code",
   "execution_count": 4,
   "metadata": {},
   "outputs": [],
   "source": [
    "#Imputing missing values:\n",
    "imputer=KNNImputer(n_neighbors=19) \n",
    "imputer.fit(dfsi)\n",
    "dfi=pd.DataFrame(imputer.transform(dfsi))\n",
    "dict=({0: \"age\", 1: \"maxEducLevel\", 2: \"sizeFirm\", 3: \"oficio\", 4: \"hoursWorkUsual\", 5: \"formal\", 6: \"ingtot\", 7: \"mes\", 8: \"estrato1\", \n",
    "9: \"sex\", 10: \"regSalud\", 11: \"p6426\", 12: \"p7090\", 13: \"p7510s7a1\", 14: \"impa\", 15: \"isa\", 16: \"impaes\", 17: \"isaes\", 18: \"relab\", \n",
    "19: \"impacomp\", 20: \"isacomp\"})\n",
    "dfi.rename(columns=dict, inplace=True)"
   ]
  },
  {
   "cell_type": "code",
   "execution_count": 5,
   "metadata": {},
   "outputs": [],
   "source": [
    "#Convert categorical variables to dummy variables:\n",
    "oficio_d=pd.get_dummies(dfi[\"oficio\"], prefix=\"oficio\") \n",
    "sizeFirm_d=pd.get_dummies(dfi[\"sizeFirm\"], prefix=\"size\") \n",
    "estrato1_d=pd.get_dummies(dfi[\"estrato1\"], prefix=\"estrato\") \n",
    "regSalud_d=pd.get_dummies(dfi[\"regSalud\"], prefix=\"regs\") \n",
    "maxeduc_d=pd.get_dummies(dfi[\"maxEducLevel\"], prefix=\"educ\") \n",
    "relab_d=pd.get_dummies(dfi[\"relab\"], prefix=\"relab\") \n",
    "mes_d=pd.get_dummies(dfi[\"mes\"], prefix=\"mes\")\n",
    "\n",
    "#Merge dummy's variables data frame with master data frame:\n",
    "dfi=pd.merge(dfi, oficio_d, left_index=True, right_index=True) \n",
    "dfi=pd.merge(dfi, sizeFirm_d, left_index=True, right_index=True)\n",
    "dfi=pd.merge(dfi, estrato1_d, left_index=True, right_index=True)\n",
    "dfi=pd.merge(dfi, regSalud_d, left_index=True, right_index=True)\n",
    "dfi=pd.merge(dfi, maxeduc_d, left_index=True, right_index=True)\n",
    "dfi=pd.merge(dfi, relab_d, left_index=True, right_index=True)\n",
    "dfi=pd.merge(dfi, mes_d, left_index=True, right_index=True)\n",
    "dfi[\"p7090\"]=np.where(dfi[\"p7090\"]==2, 0, 1)\n"
   ]
  },
  {
   "cell_type": "code",
   "execution_count": 6,
   "metadata": {},
   "outputs": [
    {
     "name": "stdout",
     "output_type": "stream",
     "text": [
      "\\begin{tabular}{lrrrrrr}\n",
      "\\toprule\n",
      "{} &    count &   mean &    std &   min &   50\\% &    max \\\\\n",
      "\\midrule\n",
      "age            &  16542.0 &  39.44 &  13.48 &  18.0 &  38.0 &   94.0 \\\\\n",
      "hoursWorkUsual &  16542.0 &  47.01 &  15.54 &   1.0 &  48.0 &  130.0 \\\\\n",
      "p6426          &  16542.0 &  63.76 &  89.49 &   0.0 &  24.0 &  720.0 \\\\\n",
      "sex            &  16542.0 &   0.53 &   0.50 &   0.0 &   1.0 &    1.0 \\\\\n",
      "formal         &  16542.0 &   0.59 &   0.49 &   0.0 &   1.0 &    1.0 \\\\\n",
      "p7090          &  16542.0 &   0.10 &   0.30 &   0.0 &   0.0 &    1.0 \\\\\n",
      "estrato\\_1.0    &  16542.0 &   0.11 &   0.31 &   0.0 &   0.0 &    1.0 \\\\\n",
      "estrato\\_2.0    &  16542.0 &   0.42 &   0.49 &   0.0 &   0.0 &    1.0 \\\\\n",
      "estrato\\_3.0    &  16542.0 &   0.36 &   0.48 &   0.0 &   0.0 &    1.0 \\\\\n",
      "estrato\\_4.0    &  16542.0 &   0.07 &   0.25 &   0.0 &   0.0 &    1.0 \\\\\n",
      "estrato\\_5.0    &  16542.0 &   0.02 &   0.14 &   0.0 &   0.0 &    1.0 \\\\\n",
      "estrato\\_6.0    &  16542.0 &   0.03 &   0.16 &   0.0 &   0.0 &    1.0 \\\\\n",
      "regs\\_1.0       &  16542.0 &   0.75 &   0.43 &   0.0 &   1.0 &    1.0 \\\\\n",
      "regs\\_2.0       &  16542.0 &   0.03 &   0.16 &   0.0 &   0.0 &    1.0 \\\\\n",
      "regs\\_3.0       &  16542.0 &   0.14 &   0.35 &   0.0 &   0.0 &    1.0 \\\\\n",
      "educ\\_1.0       &  16542.0 &   0.01 &   0.09 &   0.0 &   0.0 &    1.0 \\\\\n",
      "educ\\_3.0       &  16542.0 &   0.05 &   0.21 &   0.0 &   0.0 &    1.0 \\\\\n",
      "educ\\_4.0       &  16542.0 &   0.09 &   0.29 &   0.0 &   0.0 &    1.0 \\\\\n",
      "educ\\_5.0       &  16542.0 &   0.11 &   0.32 &   0.0 &   0.0 &    1.0 \\\\\n",
      "educ\\_6.0       &  16542.0 &   0.32 &   0.47 &   0.0 &   0.0 &    1.0 \\\\\n",
      "educ\\_7.0       &  16542.0 &   0.42 &   0.49 &   0.0 &   0.0 &    1.0 \\\\\n",
      "\\bottomrule\n",
      "\\end{tabular}\n",
      "\n"
     ]
    },
    {
     "name": "stderr",
     "output_type": "stream",
     "text": [
      "C:\\Users\\juand\\AppData\\Local\\Temp/ipykernel_4376/2754969956.py:13: FutureWarning: In future versions `DataFrame.to_latex` is expected to utilise the base implementation of `Styler.to_latex` for formatting and rendering. The arguments signature may therefore change. It is recommended instead to use `DataFrame.style.to_latex` which also contains additional functionality.\n",
      "  print(ds.to_latex())\n"
     ]
    }
   ],
   "source": [
    "#Transform categorial atribute variables to numerical variable: \n",
    "dfi[\"hoursWorkUsual\"]=pd.to_numeric(dfi[\"hoursWorkUsual\"])\n",
    "dfi[\"formal\"]=pd.to_numeric(dfi[\"formal\"])\n",
    "dfi[\"p6426\"]=pd.to_numeric(dfi[\"p6426\"])\n",
    "\n",
    "#Descriptive statistics data frame:\n",
    "ds=(dfi[[\"age\", \"hoursWorkUsual\", \"p6426\", \"sex\", \"formal\", \"p7090\", \"estrato_1.0\", \"estrato_2.0\", \"estrato_3.0\", \n",
    "\"estrato_4.0\", \"estrato_5.0\", \"estrato_6.0\", \"regs_1.0\", \"regs_2.0\", \"regs_3.0\", \"educ_1.0\", \"educ_3.0\", \"educ_4.0\", \n",
    "\"educ_5.0\", \"educ_6.0\", \"educ_7.0\"]].describe(include=\"all\"))\n",
    "ds=ds.T\n",
    "ds=ds[[\"count\", \"mean\", \"std\", \"min\", \"50%\", \"max\"]]\n",
    "ds=ds.round(2)\n",
    "print(ds.to_latex())"
   ]
  },
  {
   "cell_type": "code",
   "execution_count": 7,
   "metadata": {},
   "outputs": [
    {
     "data": {
      "text/plain": [
       "count    1.654200e+04\n",
       "mean     1.608618e+06\n",
       "std      2.346376e+06\n",
       "min      0.000000e+00\n",
       "25%      7.812420e+05\n",
       "50%      9.913334e+05\n",
       "75%      1.566667e+06\n",
       "max      5.250000e+07\n",
       "Name: earnings, dtype: float64"
      ]
     },
     "execution_count": 7,
     "metadata": {},
     "output_type": "execute_result"
    }
   ],
   "source": [
    "#Create dependent variable:\n",
    "dfi[\"earnings\"]=dfi[\"impacomp\"]+dfi[\"isacomp\"]\n",
    "dfi[\"earnings\"].describe()"
   ]
  },
  {
   "cell_type": "code",
   "execution_count": 8,
   "metadata": {},
   "outputs": [
    {
     "data": {
      "text/plain": [
       "count    1.654200e+04\n",
       "mean     1.393628e+06\n",
       "std      1.197830e+06\n",
       "min      0.000000e+00\n",
       "25%      7.812420e+05\n",
       "50%      9.913334e+05\n",
       "75%      1.566667e+06\n",
       "max      5.000000e+06\n",
       "Name: earnings, dtype: float64"
      ]
     },
     "execution_count": 8,
     "metadata": {},
     "output_type": "execute_result"
    }
   ],
   "source": [
    "#Winsorize data:\n",
    "sc.stats.mstats.winsorize(dfi[\"earnings\"], limits=[0,0.05], inplace=True)\n",
    "sc.stats.mstats.winsorize(dfi[\"age\"], limits=[0,0.05], inplace=True)\n",
    "dfi[\"earnings\"].describe()"
   ]
  },
  {
   "cell_type": "code",
   "execution_count": 9,
   "metadata": {},
   "outputs": [
    {
     "name": "stdout",
     "output_type": "stream",
     "text": [
      "                            OLS Regression Results                            \n",
      "==============================================================================\n",
      "Dep. Variable:               earnings   R-squared:                       0.036\n",
      "Model:                            OLS   Adj. R-squared:                  0.036\n",
      "Method:                 Least Squares   F-statistic:                     310.2\n",
      "Date:                Mon, 05 Sep 2022   Prob (F-statistic):          5.83e-133\n",
      "Time:                        08:21:41   Log-Likelihood:            -2.5469e+05\n",
      "No. Observations:               16542   AIC:                         5.094e+05\n",
      "Df Residuals:                   16539   BIC:                         5.094e+05\n",
      "Df Model:                           2                                         \n",
      "Covariance Type:            nonrobust                                         \n",
      "==============================================================================\n",
      "                 coef    std err          t      P>|t|      [0.025      0.975]\n",
      "------------------------------------------------------------------------------\n",
      "const       -9.33e+05    9.4e+04     -9.928      0.000   -1.12e+06   -7.49e+05\n",
      "age         1.214e+05   4903.832     24.761      0.000    1.12e+05    1.31e+05\n",
      "age2       -1428.5675     59.243    -24.114      0.000   -1544.689   -1312.446\n",
      "==============================================================================\n",
      "Omnibus:                     5064.304   Durbin-Watson:                   1.559\n",
      "Prob(Omnibus):                  0.000   Jarque-Bera (JB):            12497.573\n",
      "Skew:                           1.718   Prob(JB):                         0.00\n",
      "Kurtosis:                       5.514   Cond. No.                     2.07e+04\n",
      "==============================================================================\n",
      "\n",
      "Notes:\n",
      "[1] Standard Errors assume that the covariance matrix of the errors is correctly specified.\n",
      "[2] The condition number is large, 2.07e+04. This might indicate that there are\n",
      "strong multicollinearity or other numerical problems.\n",
      "1176051.278679825\n"
     ]
    }
   ],
   "source": [
    "#Create cuadratic age variable:\n",
    "dfi[\"age2\"]=dfi[\"age\"]**2\n",
    "\n",
    "#OLS regresion model:\n",
    "y=dfi[\"earnings\"]\n",
    "x=dfi[[\"age\", \"age2\"]]\n",
    "x=sm.add_constant(x)\n",
    "model1=sm.OLS(y,x)\n",
    "results=model1.fit()\n",
    "yhatp1=results.predict()\n",
    "b1=results.params[1]\n",
    "b2=results.params[2]\n",
    "elasticidad=-b1/2*b2\n",
    "print(results.summary())\n",
    "print(np.sqrt(results.mse_resid))"
   ]
  },
  {
   "cell_type": "code",
   "execution_count": 10,
   "metadata": {},
   "outputs": [],
   "source": [
    "#Bootstrap \n",
    "seboot=[0]*3\n",
    "for j in range(0,3):\n",
    "    def estimador(dfi):\n",
    "        y=dfi[\"earnings\"]\n",
    "        x=dfi[[\"age\", \"age2\"]]\n",
    "        x=sm.add_constant(x)\n",
    "        model1=sm.OLS(y,x)\n",
    "        results= model1.fit()\n",
    "        return results.params[j]\n",
    "\n",
    "    dist = bp.EmpiricalDistribution(dfi)\n",
    "    sea=bp.standard_error(dist, estimador, B=5)\n",
    "    seboot[j]=sea"
   ]
  },
  {
   "cell_type": "code",
   "execution_count": 11,
   "metadata": {},
   "outputs": [],
   "source": [
    "b0=results.params[0]\n",
    "b1=results.params[1]\n",
    "b2=results.params[2]\n",
    "\n",
    "b0low=b0-seboot[0]*1.96\n",
    "b1low=b1-seboot[1]*1.96\n",
    "b2low=b2-seboot[2]*1.96\n",
    "\n",
    "b0upper=b0+seboot[0]*1.96\n",
    "b1upper=b1+seboot[1]*1.96\n",
    "b2upper=b2+seboot[2]*1.96\n",
    "\n",
    "yhatlow=b0low+b1low*dfi['age']+b2low*dfi['age2']\n",
    "yhatupper=b0upper+b1upper*dfi['age']+b2upper*dfi['age2']\n"
   ]
  },
  {
   "cell_type": "code",
   "execution_count": 12,
   "metadata": {},
   "outputs": [
    {
     "data": {
      "text/plain": [
       "<matplotlib.collections.PathCollection at 0x19087552be0>"
      ]
     },
     "execution_count": 12,
     "metadata": {},
     "output_type": "execute_result"
    },
    {
     "data": {
      "image/png": "[encoded data removed]",
      "text/plain": [
       "<Figure size 432x288 with 1 Axes>"
      ]
     },
     "metadata": {
      "needs_background": "light"
     },
     "output_type": "display_data"
    }
   ],
   "source": [
    "#Graph\n",
    "fig, ax = plt.subplots()\n",
    "ax.scatter(dfi['age'], yhatupper)\n",
    "ax.scatter(dfi['age'], yhatlow)\n",
    "ax.scatter(dfi['age'], yhatp1)\n",
    "#ax.fill_between(dfi['age'], yhatlow, yhatupper, color='b', alpha=.1)"
   ]
  },
  {
   "cell_type": "code",
   "execution_count": 13,
   "metadata": {},
   "outputs": [
    {
     "data": {
      "text/plain": [
       "count    16266.000000\n",
       "mean        13.848315\n",
       "std          0.847481\n",
       "min          8.750808\n",
       "25%         13.592367\n",
       "50%         13.815511\n",
       "75%         14.283410\n",
       "max         15.424948\n",
       "Name: log_earnings, dtype: float64"
      ]
     },
     "execution_count": 13,
     "metadata": {},
     "output_type": "execute_result"
    }
   ],
   "source": [
    "#Create female variable:\n",
    "dfi[\"female\"]=np.where(dfi[\"sex\"]==1, 0, 1)\n",
    "dfi=dfi.drop(dfi[dfi.earnings==0].index)\n",
    "dfi[\"log_earnings\"]=np.log(dfi[\"earnings\"])\n",
    "dfi[\"log_earnings\"].describe()"
   ]
  },
  {
   "cell_type": "code",
   "execution_count": 14,
   "metadata": {},
   "outputs": [
    {
     "name": "stdout",
     "output_type": "stream",
     "text": [
      "                            OLS Regression Results                            \n",
      "==============================================================================\n",
      "Dep. Variable:           log_earnings   R-squared:                       0.019\n",
      "Model:                            OLS   Adj. R-squared:                  0.019\n",
      "Method:                 Least Squares   F-statistic:                     316.0\n",
      "Date:                Mon, 05 Sep 2022   Prob (F-statistic):           4.97e-70\n",
      "Time:                        08:21:42   Log-Likelihood:                -20232.\n",
      "No. Observations:               16266   AIC:                         4.047e+04\n",
      "Df Residuals:                   16264   BIC:                         4.048e+04\n",
      "Df Model:                           1                                         \n",
      "Covariance Type:            nonrobust                                         \n",
      "==============================================================================\n",
      "                 coef    std err          t      P>|t|      [0.025      0.975]\n",
      "------------------------------------------------------------------------------\n",
      "const         13.9577      0.009   1549.028      0.000      13.940      13.975\n",
      "female        -0.2345      0.013    -17.776      0.000      -0.260      -0.209\n",
      "==============================================================================\n",
      "Omnibus:                     1625.843   Durbin-Watson:                   1.668\n",
      "Prob(Omnibus):                  0.000   Jarque-Bera (JB):             3411.201\n",
      "Skew:                          -0.640   Prob(JB):                         0.00\n",
      "Kurtosis:                       4.842   Cond. No.                         2.55\n",
      "==============================================================================\n",
      "\n",
      "Notes:\n",
      "[1] Standard Errors assume that the covariance matrix of the errors is correctly specified.\n",
      "0.8393921562004522\n"
     ]
    }
   ],
   "source": [
    "#OLS regresion model:\n",
    "y=dfi[\"log_earnings\"]\n",
    "x=dfi[\"female\"]\n",
    "x=sm.add_constant(x)\n",
    "model2=sm.OLS(y,x)\n",
    "results= model2.fit()\n",
    "print(results.summary())\n",
    "print(np.sqrt(results.mse_resid))"
   ]
  },
  {
   "cell_type": "code",
   "execution_count": 15,
   "metadata": {},
   "outputs": [
    {
     "name": "stdout",
     "output_type": "stream",
     "text": [
      "1249025.8306752036\n"
     ]
    }
   ],
   "source": [
    "#rMSE to COP units:\n",
    "y_hat=results.predict()\n",
    "from math import e\n",
    "y_hat2=e**(y_hat)\n",
    "E = dfi[\"earnings\"]-y_hat2\n",
    "E2 = E**2\n",
    "MSE=sum(E2)/(len(E2)-2)\n",
    "print(np.sqrt(MSE))"
   ]
  },
  {
   "cell_type": "code",
   "execution_count": 16,
   "metadata": {},
   "outputs": [
    {
     "name": "stdout",
     "output_type": "stream",
     "text": [
      "                            OLS Regression Results                            \n",
      "==============================================================================\n",
      "Dep. Variable:           log_earnings   R-squared:                       0.089\n",
      "Model:                            OLS   Adj. R-squared:                  0.089\n",
      "Method:                 Least Squares   F-statistic:                     317.0\n",
      "Date:                Mon, 05 Sep 2022   Prob (F-statistic):               0.00\n",
      "Time:                        08:21:42   Log-Likelihood:                -19632.\n",
      "No. Observations:               16266   AIC:                         3.928e+04\n",
      "Df Residuals:                   16260   BIC:                         3.932e+04\n",
      "Df Model:                           5                                         \n",
      "Covariance Type:            nonrobust                                         \n",
      "===============================================================================\n",
      "                  coef    std err          t      P>|t|      [0.025      0.975]\n",
      "-------------------------------------------------------------------------------\n",
      "const          12.0251      0.089    135.761      0.000      11.851      12.199\n",
      "age             0.1022      0.005     22.116      0.000       0.093       0.111\n",
      "female         -0.0885      0.132     -0.672      0.501      -0.346       0.169\n",
      "female_age      0.0066      0.007      0.967      0.333      -0.007       0.020\n",
      "female_age2    -0.0003   8.31e-05     -3.031      0.002      -0.000   -8.91e-05\n",
      "age2           -0.0012   5.56e-05    -21.821      0.000      -0.001      -0.001\n",
      "==============================================================================\n",
      "Omnibus:                     1374.359   Durbin-Watson:                   1.666\n",
      "Prob(Omnibus):                  0.000   Jarque-Bera (JB):             3012.724\n",
      "Skew:                          -0.542   Prob(JB):                         0.00\n",
      "Kurtosis:                       4.809   Cond. No.                     5.22e+04\n",
      "==============================================================================\n",
      "\n",
      "Notes:\n",
      "[1] Standard Errors assume that the covariance matrix of the errors is correctly specified.\n",
      "[2] The condition number is large, 5.22e+04. This might indicate that there are\n",
      "strong multicollinearity or other numerical problems.\n"
     ]
    },
    {
     "data": {
      "text/plain": [
       "const          12.025112\n",
       "age             0.102177\n",
       "female         -0.088458\n",
       "female_age      0.006645\n",
       "female_age2    -0.000252\n",
       "age2           -0.001213\n",
       "dtype: float64"
      ]
     },
     "execution_count": 16,
     "metadata": {},
     "output_type": "execute_result"
    }
   ],
   "source": [
    "#Create interactions variable:\n",
    "dfi[\"female_age\"]=dfi[\"female\"]*dfi[\"age\"]\n",
    "dfi[\"female_age2\"]=dfi[\"female\"]*dfi[\"age2\"]\n",
    "\n",
    "#OLS regresion model:\n",
    "y=dfi[\"log_earnings\"]\n",
    "x=dfi[[\"age\", \"female\", \"female_age\", \"female_age2\", \"age2\"]]\n",
    "x=sm.add_constant(x)\n",
    "model3=sm.OLS(y,x)\n",
    "results= model3.fit()\n",
    "yhatp3=results.predict()\n",
    "print(results.summary())\n",
    "results.params"
   ]
  },
  {
   "cell_type": "code",
   "execution_count": 17,
   "metadata": {},
   "outputs": [
    {
     "name": "stdout",
     "output_type": "stream",
     "text": [
      "1221026.851353383\n"
     ]
    }
   ],
   "source": [
    "#rMSE to COP units:\n",
    "y_hat=results.predict()\n",
    "from math import e\n",
    "y_hat2=e**(y_hat)\n",
    "E = dfi[\"earnings\"]-y_hat2\n",
    "E2 = E**2\n",
    "MSE=sum(E2)/(len(E2)-6)\n",
    "print(np.sqrt(MSE))"
   ]
  },
  {
   "cell_type": "code",
   "execution_count": 59,
   "metadata": {},
   "outputs": [
    {
     "data": {
      "text/plain": [
       "[0.06991043903223722,\n",
       " 0.00386172880974384,\n",
       " 0.12944378231098908,\n",
       " 0.01398908412642289,\n",
       " 0.00010250392480243745,\n",
       " 6.27271250728658e-05]"
      ]
     },
     "execution_count": 59,
     "metadata": {},
     "output_type": "execute_result"
    }
   ],
   "source": [
    "#Bootstrap \n",
    "seboot=[0]*6\n",
    "for j in range(0,6):\n",
    "    def estimador3(dfi):\n",
    "        y=dfi[\"log_earnings\"]\n",
    "        x=dfi[[\"age\", \"female\", \"female_age\", \"female_age2\", \"age2\"]]\n",
    "        x=sm.add_constant(x)\n",
    "        model1=sm.OLS(y,x)\n",
    "        results= model1.fit()\n",
    "        return results.params[j]\n",
    "\n",
    "    dist = bp.EmpiricalDistribution(dfi)\n",
    "    sea=bp.standard_error(dist, estimador3, B=5)\n",
    "    seboot[j]=sea\n",
    "\n",
    "seboot\n"
   ]
  },
  {
   "cell_type": "code",
   "execution_count": 60,
   "metadata": {},
   "outputs": [
    {
     "ename": "AttributeError",
     "evalue": "'LinearRegression' object has no attribute 'params'",
     "output_type": "error",
     "traceback": [
      "\u001b[1;31m---------------------------------------------------------------------------\u001b[0m",
      "\u001b[1;31mAttributeError\u001b[0m                            Traceback (most recent call last)",
      "\u001b[1;32m~\\AppData\\Local\\Temp/ipykernel_4376/3268452993.py\u001b[0m in \u001b[0;36m<module>\u001b[1;34m\u001b[0m\n\u001b[0;32m      1\u001b[0m \u001b[1;32mfor\u001b[0m \u001b[0mk\u001b[0m \u001b[1;32min\u001b[0m \u001b[0mrange\u001b[0m\u001b[1;33m(\u001b[0m\u001b[1;36m0\u001b[0m\u001b[1;33m,\u001b[0m\u001b[1;36m6\u001b[0m\u001b[1;33m)\u001b[0m\u001b[1;33m:\u001b[0m\u001b[1;33m\u001b[0m\u001b[1;33m\u001b[0m\u001b[0m\n\u001b[1;32m----> 2\u001b[1;33m     \u001b[0mlocals\u001b[0m\u001b[1;33m(\u001b[0m\u001b[1;33m)\u001b[0m\u001b[1;33m[\u001b[0m\u001b[1;34m'b'\u001b[0m\u001b[1;33m+\u001b[0m\u001b[0mstr\u001b[0m\u001b[1;33m(\u001b[0m\u001b[0mk\u001b[0m\u001b[1;33m)\u001b[0m\u001b[1;33m]\u001b[0m\u001b[1;33m=\u001b[0m\u001b[0mresults\u001b[0m\u001b[1;33m.\u001b[0m\u001b[0mparams\u001b[0m\u001b[1;33m[\u001b[0m\u001b[0mk\u001b[0m\u001b[1;33m]\u001b[0m\u001b[1;33m\u001b[0m\u001b[1;33m\u001b[0m\u001b[0m\n\u001b[0m\u001b[0;32m      3\u001b[0m     \u001b[0mlocals\u001b[0m\u001b[1;33m(\u001b[0m\u001b[1;33m)\u001b[0m\u001b[1;33m[\u001b[0m\u001b[1;34m'b'\u001b[0m\u001b[1;33m+\u001b[0m\u001b[0mstr\u001b[0m\u001b[1;33m(\u001b[0m\u001b[0mk\u001b[0m\u001b[1;33m)\u001b[0m\u001b[1;33m+\u001b[0m\u001b[1;34m'low'\u001b[0m\u001b[1;33m]\u001b[0m\u001b[1;33m=\u001b[0m\u001b[0mlocals\u001b[0m\u001b[1;33m(\u001b[0m\u001b[1;33m)\u001b[0m\u001b[1;33m[\u001b[0m\u001b[1;34m'b'\u001b[0m\u001b[1;33m+\u001b[0m\u001b[0mstr\u001b[0m\u001b[1;33m(\u001b[0m\u001b[0mk\u001b[0m\u001b[1;33m)\u001b[0m\u001b[1;33m]\u001b[0m\u001b[1;33m-\u001b[0m\u001b[0mseboot\u001b[0m\u001b[1;33m[\u001b[0m\u001b[0mk\u001b[0m\u001b[1;33m]\u001b[0m\u001b[1;33m*\u001b[0m\u001b[1;36m1.96\u001b[0m\u001b[1;33m\u001b[0m\u001b[1;33m\u001b[0m\u001b[0m\n\u001b[0;32m      4\u001b[0m     \u001b[0mlocals\u001b[0m\u001b[1;33m(\u001b[0m\u001b[1;33m)\u001b[0m\u001b[1;33m[\u001b[0m\u001b[1;34m'b'\u001b[0m\u001b[1;33m+\u001b[0m\u001b[0mstr\u001b[0m\u001b[1;33m(\u001b[0m\u001b[0mk\u001b[0m\u001b[1;33m)\u001b[0m\u001b[1;33m+\u001b[0m\u001b[1;34m'upper'\u001b[0m\u001b[1;33m]\u001b[0m\u001b[1;33m=\u001b[0m\u001b[0mlocals\u001b[0m\u001b[1;33m(\u001b[0m\u001b[1;33m)\u001b[0m\u001b[1;33m[\u001b[0m\u001b[1;34m'b'\u001b[0m\u001b[1;33m+\u001b[0m\u001b[0mstr\u001b[0m\u001b[1;33m(\u001b[0m\u001b[0mk\u001b[0m\u001b[1;33m)\u001b[0m\u001b[1;33m]\u001b[0m\u001b[1;33m+\u001b[0m\u001b[0mseboot\u001b[0m\u001b[1;33m[\u001b[0m\u001b[0mk\u001b[0m\u001b[1;33m]\u001b[0m\u001b[1;33m*\u001b[0m\u001b[1;36m1.96\u001b[0m\u001b[1;33m\u001b[0m\u001b[1;33m\u001b[0m\u001b[0m\n\u001b[0;32m      5\u001b[0m \u001b[1;33m\u001b[0m\u001b[0m\n",
      "\u001b[1;31mAttributeError\u001b[0m: 'LinearRegression' object has no attribute 'params'"
     ]
    }
   ],
   "source": [
    "\n",
    "for k in range(0,6):\n",
    "    locals()['b'+str(k)]=results.params[k]\n",
    "    locals()['b'+str(k)+'low']=locals()['b'+str(k)]-seboot[k]*1.96\n",
    "    locals()['b'+str(k)+'upper']=locals()['b'+str(k)]+seboot[k]*1.96\n",
    "\n",
    "\n",
    "yhatlow=b0low+b1low*dfi['age']+b5low*dfi['age2']+b2low*dfi['female']+b3low*dfi['female_age']+b4low*dfi['female_age2']\n",
    "yhatupper=b0upper+b1upper*dfi['age']+b5upper*dfi['age2']+b2upper*dfi['female']+b3upper*dfi['female_age']+b4upper*dfi['female_age2']\n"
   ]
  },
  {
   "cell_type": "code",
   "execution_count": 52,
   "metadata": {},
   "outputs": [
    {
     "data": {
      "text/plain": [
       "<matplotlib.collections.PathCollection at 0x1908bef0d30>"
      ]
     },
     "execution_count": 52,
     "metadata": {},
     "output_type": "execute_result"
    },
    {
     "data": {
      "image/png": "[encoded data removed]",
      "text/plain": [
       "<Figure size 432x288 with 1 Axes>"
      ]
     },
     "metadata": {
      "needs_background": "light"
     },
     "output_type": "display_data"
    }
   ],
   "source": [
    "#Graph\n",
    "\n",
    "yhatupperh= np.ma.masked_where(dfi['female']==0, yhatupper)\n",
    "yhatlowh = np.ma.masked_where(dfi['female']==0, yhatlow)\n",
    "\n",
    "yhatupperm= np.ma.masked_where(dfi['female']==1, yhatupper)\n",
    "yhatlowm = np.ma.masked_where(dfi['female']==1,yhatlow )\n",
    "\n",
    "yhatp3m=np.ma.masked_where(dfi['female']==1, yhatp3)\n",
    "yhatp3h=np.ma.masked_where(dfi['female']==0, yhatp3)\n",
    "\n",
    "fig, ax = plt.subplots()\n",
    "ax.scatter(dfi['age'], yhatupperm)\n",
    "ax.scatter(dfi['age'], yhatupperh)\n",
    "ax.scatter(dfi['age'], yhatlowm)\n",
    "ax.scatter(dfi['age'], yhatlowh)\n",
    "ax.scatter(dfi['age'], yhatp3m)\n",
    "ax.scatter(dfi['age'], yhatp3h)\n",
    "#ax.fill_between(dfi['age'], yhatlow, yhatupper, color='b', alpha=.1)"
   ]
  },
  {
   "cell_type": "code",
   "execution_count": 21,
   "metadata": {},
   "outputs": [
    {
     "name": "stdout",
     "output_type": "stream",
     "text": [
      "                            OLS Regression Results                            \n",
      "==============================================================================\n",
      "Dep. Variable:           log_earnings   R-squared:                       0.554\n",
      "Model:                            OLS   Adj. R-squared:                  0.551\n",
      "Method:                 Least Squares   F-statistic:                     179.4\n",
      "Date:                Mon, 05 Sep 2022   Prob (F-statistic):               0.00\n",
      "Time:                        08:22:39   Log-Likelihood:                -13815.\n",
      "No. Observations:               16266   AIC:                         2.786e+04\n",
      "Df Residuals:                   16153   BIC:                         2.873e+04\n",
      "Df Model:                         112                                         \n",
      "Covariance Type:            nonrobust                                         \n",
      "==================================================================================\n",
      "                     coef    std err          t      P>|t|      [0.025      0.975]\n",
      "----------------------------------------------------------------------------------\n",
      "const             10.9644      0.100    110.130      0.000      10.769      11.160\n",
      "female            -0.1583      0.093     -1.700      0.089      -0.341       0.024\n",
      "age                0.0539      0.003     16.221      0.000       0.047       0.060\n",
      "age2              -0.0006      4e-05    -15.161      0.000      -0.001      -0.001\n",
      "female_age         0.0040      0.005      0.814      0.415      -0.006       0.013\n",
      "female_age2    -9.868e-05   5.89e-05     -1.677      0.094      -0.000    1.67e-05\n",
      "sizeFirm           0.0945      0.005     20.006      0.000       0.085       0.104\n",
      "hoursWorkUsual     0.0118      0.000     37.192      0.000       0.011       0.012\n",
      "formal             0.2748      0.013     20.738      0.000       0.249       0.301\n",
      "p6426              0.0010   5.94e-05     16.976      0.000       0.001       0.001\n",
      "educ_3.0           0.2281      0.056      4.041      0.000       0.117       0.339\n",
      "educ_4.0           0.3078      0.055      5.641      0.000       0.201       0.415\n",
      "educ_5.0           0.3641      0.054      6.710      0.000       0.258       0.471\n",
      "educ_6.0           0.4500      0.054      8.393      0.000       0.345       0.555\n",
      "educ_7.0           0.6879      0.054     12.667      0.000       0.581       0.794\n",
      "relab_2.0          0.1885      0.026      7.364      0.000       0.138       0.239\n",
      "relab_3.0          0.3341      0.042      8.018      0.000       0.252       0.416\n",
      "relab_4.0         -0.0565      0.015     -3.863      0.000      -0.085      -0.028\n",
      "relab_5.0          0.3006      0.026     11.485      0.000       0.249       0.352\n",
      "relab_6.0         -1.7563      0.103    -17.017      0.000      -1.959      -1.554\n",
      "relab_7.0         -1.8007      0.139    -12.974      0.000      -2.073      -1.529\n",
      "relab_8.0         -0.1809      0.576     -0.314      0.753      -1.310       0.948\n",
      "relab_9.0         -0.7618      0.190     -4.000      0.000      -1.135      -0.389\n",
      "mes_1.0           -0.0336      0.022     -1.506      0.132      -0.077       0.010\n",
      "mes_2.0           -0.0367      0.022     -1.675      0.094      -0.080       0.006\n",
      "mes_3.0           -0.0455      0.022     -2.096      0.036      -0.088      -0.003\n",
      "mes_4.0           -0.0373      0.022     -1.716      0.086      -0.080       0.005\n",
      "mes_5.0            0.0137      0.021      0.638      0.523      -0.028       0.056\n",
      "mes_6.0            0.0030      0.022      0.141      0.888      -0.039       0.045\n",
      "mes_7.0           -0.0315      0.022     -1.450      0.147      -0.074       0.011\n",
      "mes_9.0            0.0015      0.022      0.069      0.945      -0.041       0.044\n",
      "mes_10.0           0.0174      0.022      0.798      0.425      -0.025       0.060\n",
      "mes_11.0          -0.0064      0.022     -0.289      0.773      -0.050       0.037\n",
      "mes_12.0           0.0034      0.023      0.148      0.883      -0.041       0.048\n",
      "oficio_1.0         0.9486      0.141      6.712      0.000       0.672       1.226\n",
      "oficio_2.0         0.7604      0.063     12.015      0.000       0.636       0.884\n",
      "oficio_3.0         0.2596      0.060      4.334      0.000       0.142       0.377\n",
      "oficio_4.0         1.3452      0.238      5.646      0.000       0.878       1.812\n",
      "oficio_5.0         0.8558      0.114      7.489      0.000       0.632       1.080\n",
      "oficio_6.0         0.9634      0.073     13.252      0.000       0.821       1.106\n",
      "oficio_7.0         0.6406      0.082      7.829      0.000       0.480       0.801\n",
      "oficio_8.0         0.8730      0.069     12.651      0.000       0.738       1.008\n",
      "oficio_9.0         0.9561      0.086     11.066      0.000       0.787       1.125\n",
      "oficio_11.0        0.7641      0.065     11.767      0.000       0.637       0.891\n",
      "oficio_12.0        1.0077      0.066     15.223      0.000       0.878       1.137\n",
      "oficio_13.0        0.5838      0.060      9.663      0.000       0.465       0.702\n",
      "oficio_14.0       -0.0072      0.238     -0.030      0.976      -0.474       0.460\n",
      "oficio_15.0        0.7505      0.090      8.374      0.000       0.575       0.926\n",
      "oficio_16.0        0.5382      0.072      7.466      0.000       0.397       0.679\n",
      "oficio_17.0        0.4361      0.087      5.017      0.000       0.266       0.607\n",
      "oficio_18.0        0.3396      0.093      3.659      0.000       0.158       0.521\n",
      "oficio_19.0        0.5681      0.067      8.461      0.000       0.437       0.700\n",
      "oficio_20.0        0.4313      0.406      1.063      0.288      -0.364       1.227\n",
      "oficio_21.0        0.8208      0.059     13.967      0.000       0.706       0.936\n",
      "oficio_30.0        0.6526      0.075      8.752      0.000       0.506       0.799\n",
      "oficio_31.0        1.0115      0.158      6.419      0.000       0.703       1.320\n",
      "oficio_32.0        0.2776      0.074      3.735      0.000       0.132       0.423\n",
      "oficio_33.0        0.2722      0.060      4.531      0.000       0.154       0.390\n",
      "oficio_34.0        0.0791      0.089      0.885      0.376      -0.096       0.254\n",
      "oficio_35.0        0.3086      0.188      1.644      0.100      -0.059       0.677\n",
      "oficio_36.0       -0.0228      0.098     -0.232      0.816      -0.215       0.170\n",
      "oficio_37.0        0.0794      0.069      1.157      0.247      -0.055       0.214\n",
      "oficio_38.0        0.1022      0.065      1.569      0.117      -0.026       0.230\n",
      "oficio_39.0        0.2362      0.057      4.130      0.000       0.124       0.348\n",
      "oficio_40.0        0.4394      0.103      4.265      0.000       0.237       0.641\n",
      "oficio_41.0        0.2486      0.058      4.257      0.000       0.134       0.363\n",
      "oficio_42.0        0.5426      0.091      5.945      0.000       0.364       0.721\n",
      "oficio_43.0        0.8052      0.138      5.831      0.000       0.535       1.076\n",
      "oficio_44.0        0.5437      0.065      8.341      0.000       0.416       0.671\n",
      "oficio_45.0        0.1131      0.055      2.041      0.041       0.005       0.222\n",
      "oficio_49.0        0.5850      0.238      2.456      0.014       0.118       1.052\n",
      "oficio_50.0        0.5174      0.108      4.800      0.000       0.306       0.729\n",
      "oficio_51.0        0.3470      0.079      4.417      0.000       0.193       0.501\n",
      "oficio_52.0        0.1038      0.238      0.436      0.663      -0.363       0.570\n",
      "oficio_53.0        0.1926      0.058      3.319      0.001       0.079       0.306\n",
      "oficio_54.0       -0.1060      0.064     -1.648      0.099      -0.232       0.020\n",
      "oficio_55.0        0.1347      0.059      2.293      0.022       0.020       0.250\n",
      "oficio_56.0        0.1218      0.099      1.232      0.218      -0.072       0.316\n",
      "oficio_57.0        0.1151      0.066      1.749      0.080      -0.014       0.244\n",
      "oficio_58.0        0.1417      0.058      2.431      0.015       0.027       0.256\n",
      "oficio_59.0        0.1207      0.061      1.980      0.048       0.001       0.240\n",
      "oficio_60.0        0.7375      0.405      1.820      0.069      -0.057       1.532\n",
      "oficio_61.0        0.2625      0.124      2.115      0.034       0.019       0.506\n",
      "oficio_62.0        0.1806      0.108      1.678      0.093      -0.030       0.392\n",
      "oficio_63.0        0.4887      0.405      1.205      0.228      -0.306       1.283\n",
      "oficio_70.0        0.3648      0.090      4.043      0.000       0.188       0.542\n",
      "oficio_72.0        0.1476      0.208      0.709      0.478      -0.261       0.556\n",
      "oficio_73.0        0.7591      0.406      1.872      0.061      -0.036       1.554\n",
      "oficio_74.0        0.0950      0.173      0.550      0.582      -0.243       0.433\n",
      "oficio_75.0       -0.2410      0.120     -2.005      0.045      -0.477      -0.005\n",
      "oficio_76.0        0.3072      0.332      0.924      0.355      -0.344       0.958\n",
      "oficio_77.0        0.1975      0.068      2.924      0.003       0.065       0.330\n",
      "oficio_78.0       -0.2153      0.571     -0.377      0.706      -1.335       0.904\n",
      "oficio_79.0        0.1037      0.059      1.744      0.081      -0.013       0.220\n",
      "oficio_80.0        0.0193      0.076      0.253      0.800      -0.130       0.169\n",
      "oficio_81.0        0.2212      0.076      2.924      0.003       0.073       0.369\n",
      "oficio_82.0       -0.1289      0.405     -0.318      0.750      -0.924       0.666\n",
      "oficio_83.0        0.2130      0.075      2.842      0.004       0.066       0.360\n",
      "oficio_84.0        0.2601      0.065      4.014      0.000       0.133       0.387\n",
      "oficio_85.0        0.2684      0.068      3.953      0.000       0.135       0.402\n",
      "oficio_86.0        0.4847      0.238      2.035      0.042       0.018       0.952\n",
      "oficio_87.0        0.2399      0.070      3.440      0.001       0.103       0.377\n",
      "oficio_88.0       -0.1322      0.208     -0.635      0.525      -0.540       0.276\n",
      "oficio_89.0        0.2252      0.135      1.668      0.095      -0.039       0.490\n",
      "oficio_90.0        0.0971      0.091      1.063      0.288      -0.082       0.276\n",
      "oficio_91.0        0.1242      0.161      0.771      0.441      -0.191       0.440\n",
      "oficio_92.0        0.2155      0.093      2.320      0.020       0.033       0.398\n",
      "oficio_93.0        0.1905      0.074      2.569      0.010       0.045       0.336\n",
      "oficio_94.0       -0.0548      0.102     -0.536      0.592      -0.255       0.146\n",
      "oficio_95.0        0.3115      0.058      5.358      0.000       0.198       0.425\n",
      "oficio_96.0        0.7705      0.405      1.901      0.057      -0.024       1.565\n",
      "oficio_97.0        0.0948      0.059      1.595      0.111      -0.022       0.211\n",
      "oficio_98.0        0.2214      0.057      3.869      0.000       0.109       0.334\n",
      "==============================================================================\n",
      "Omnibus:                     2200.374   Durbin-Watson:                   1.853\n",
      "Prob(Omnibus):                  0.000   Jarque-Bera (JB):             6802.523\n",
      "Skew:                          -0.708   Prob(JB):                         0.00\n",
      "Kurtosis:                       5.834   Cond. No.                     2.92e+05\n",
      "==============================================================================\n",
      "\n",
      "Notes:\n",
      "[1] Standard Errors assume that the covariance matrix of the errors is correctly specified.\n",
      "[2] The condition number is large, 2.92e+05. This might indicate that there are\n",
      "strong multicollinearity or other numerical problems.\n",
      "0.5677167784689657\n"
     ]
    }
   ],
   "source": [
    "oficio=[\"oficio_1.0\"]\n",
    "for i in range(2,99):\n",
    "    oficio.append(\"oficio_\"+str(i)+\".0\")\n",
    "    list1=['oficio_10.0', 'oficio_22.0', 'oficio_23.0', 'oficio_24.0', 'oficio_25.0', 'oficio_26.0', 'oficio_27.0', 'oficio_28.0', 'oficio_29.0', 'oficio_46.0', 'oficio_47.0', 'oficio_48.0', 'oficio_64.0', 'oficio_65.0', 'oficio_66.0', 'oficio_67.0', 'oficio_68.0', 'oficio_69.0', 'oficio_71.0']\n",
    "    oficio2=[i for i in oficio if i not in list1]\n",
    "\n",
    "#Long regression\n",
    "#Define exogenous and endogenous variables:\n",
    "y=dfi[\"log_earnings\"]\n",
    "x0=dfi[[\"female\", \"age\", \"age2\", \"female_age\", \"female_age2\"]]\n",
    "x1=(dfi[[\"sizeFirm\", \"hoursWorkUsual\", \"formal\", \"p6426\", \"educ_3.0\", \"educ_4.0\", \n",
    "\"educ_5.0\", \"educ_6.0\", \"educ_7.0\", \"relab_2.0\", \"relab_3.0\" , \"relab_4.0\", \"relab_5.0\", \"relab_6.0\", \n",
    "\"relab_7.0\", \"relab_8.0\" , \"relab_9.0\", \"mes_1.0\", \"mes_2.0\", \"mes_3.0\", \"mes_4.0\", \"mes_5.0\", \"mes_6.0\", \n",
    "\"mes_7.0\", \"mes_9.0\", \"mes_10.0\", \"mes_11.0\", \"mes_12.0\"]])\n",
    "x2=dfi[oficio2]\n",
    "x=pd.concat([x0,x1,x2], axis=1, join=\"inner\")\n",
    "x=sm.add_constant(x)\n",
    "\n",
    "#OLS regresion model:\n",
    "model2=sm.OLS(y,x)\n",
    "results= model2.fit()\n",
    "print(results.summary())\n",
    "print(np.sqrt(results.mse_resid))"
   ]
  },
  {
   "cell_type": "code",
   "execution_count": 22,
   "metadata": {},
   "outputs": [
    {
     "name": "stdout",
     "output_type": "stream",
     "text": [
      "866461.508742896\n"
     ]
    }
   ],
   "source": [
    "\n",
    "#rMSE to COP units:\n",
    "y_hat=results.predict()\n",
    "from math import e\n",
    "y_hat2=e**(y_hat)\n",
    "E = dfi[\"earnings\"]-y_hat2\n",
    "E2 = E**2\n",
    "MSE=sum(E2)/(len(E2)-131)\n",
    "print(np.sqrt(MSE))"
   ]
  },
  {
   "cell_type": "code",
   "execution_count": 23,
   "metadata": {},
   "outputs": [
    {
     "name": "stdout",
     "output_type": "stream",
     "text": [
      "                                 OLS Regression Results                                \n",
      "=======================================================================================\n",
      "Dep. Variable:                      y   R-squared (uncentered):                   0.043\n",
      "Model:                            OLS   Adj. R-squared (uncentered):              0.043\n",
      "Method:                 Least Squares   F-statistic:                              145.5\n",
      "Date:                Mon, 05 Sep 2022   Prob (F-statistic):                   1.41e-151\n",
      "Time:                        08:22:49   Log-Likelihood:                         -13815.\n",
      "No. Observations:               16266   AIC:                                  2.764e+04\n",
      "Df Residuals:                   16261   BIC:                                  2.768e+04\n",
      "Df Model:                           5                                                  \n",
      "Covariance Type:            nonrobust                                                  \n",
      "===============================================================================\n",
      "                  coef    std err          t      P>|t|      [0.025      0.975]\n",
      "-------------------------------------------------------------------------------\n",
      "female         -0.1583      0.093     -1.706      0.088      -0.340       0.024\n",
      "age             0.0539      0.003     16.275      0.000       0.047       0.060\n",
      "age2           -0.0006   3.99e-05    -15.211      0.000      -0.001      -0.001\n",
      "female_age      0.0040      0.005      0.817      0.414      -0.006       0.013\n",
      "female_age2 -9.868e-05   5.87e-05     -1.682      0.093      -0.000    1.63e-05\n",
      "==============================================================================\n",
      "Omnibus:                     2200.374   Durbin-Watson:                   1.853\n",
      "Prob(Omnibus):                  0.000   Jarque-Bera (JB):             6802.523\n",
      "Skew:                          -0.708   Prob(JB):                         0.00\n",
      "Kurtosis:                       5.834   Cond. No.                     2.15e+04\n",
      "==============================================================================\n",
      "\n",
      "Notes:\n",
      "[1] R² is computed without centering (uncentered) since the model does not contain a constant.\n",
      "[2] Standard Errors assume that the covariance matrix of the errors is correctly specified.\n",
      "[3] The condition number is large, 2.15e+04. This might indicate that there are\n",
      "strong multicollinearity or other numerical problems.\n",
      "0.5677167784689657\n"
     ]
    }
   ],
   "source": [
    "#FWL theorem\n",
    "#Define exog and endog variables\n",
    "y=dfi[\"log_earnings\"]\n",
    "x0=dfi[[\"female\", \"age\", \"age2\", \"female_age\", \"female_age2\"]]\n",
    "x_f=pd.concat([x1,x2], axis=1, join=\"inner\")\n",
    "x_f=sm.add_constant(x_f)\n",
    "x0=sm.add_constant(x0)\n",
    "\n",
    "#Residuals of log_earnings regressed on controls\n",
    "model3=sm.OLS(y,x_f)\n",
    "results_f= model3.fit()\n",
    "resid_a=results_f.resid\n",
    "\n",
    "#residuals of female regressed on controls\n",
    "model4=sm.OLS(x0, x_f)\n",
    "results_f2= model4.fit()\n",
    "resid_b=results_f2.resid\n",
    "\n",
    "#Delete constant from residuals b\n",
    "resid_b=resid_b.drop([\"const\"], axis=1)\n",
    "\n",
    "#Results of resid_a  regressed on resid_b\n",
    "model_FWL=sm.OLS(resid_a,resid_b)\n",
    "results_FWL=model_FWL.fit()\n",
    "print(results_FWL.summary())\n",
    "print(np.sqrt(results.mse_resid))"
   ]
  },
  {
   "cell_type": "code",
   "execution_count": 24,
   "metadata": {},
   "outputs": [
    {
     "name": "stdout",
     "output_type": "stream",
     "text": [
      "863098.048310414\n"
     ]
    }
   ],
   "source": [
    "#rMSE to COP units:\n",
    "y_hat=results.predict()\n",
    "from math import e\n",
    "y_hat2=e**(y_hat)\n",
    "E = dfi[\"earnings\"]-y_hat2\n",
    "E2 = E**2\n",
    "MSE=sum(E2)/(len(E2)-5)\n",
    "print(np.sqrt(MSE))"
   ]
  },
  {
   "cell_type": "code",
   "execution_count": null,
   "metadata": {},
   "outputs": [],
   "source": [
    "#Bootstrap FWL\n",
    "\n"
   ]
  },
  {
   "cell_type": "code",
   "execution_count": 25,
   "metadata": {},
   "outputs": [],
   "source": [
    "#Create new variables\n",
    "dfi['age_hours']=dfi['age']*dfi['hoursWorkUsual']\n",
    "dfi['hours2']=dfi['hoursWorkUsual']**2\n",
    "dfi['age_hours2']=dfi['age']*dfi['hours2']\n",
    "\n",
    "for j in range(1,8):\n",
    "    if j==2:\n",
    "        pass\n",
    "    else:\n",
    "        dfi[\"female_educ\"+str(j)]=dfi[\"female\"]*dfi[\"educ_\"+str(j)+\".0\"]\n",
    "\n",
    "for j in range(1,10):\n",
    "        dfi[\"female_relab\"+str(j)]=dfi['female']*dfi[\"relab_\"+str(j)+\".0\"]\n",
    "\n",
    "for j in range(1,8):\n",
    "    if j==2:\n",
    "        pass\n",
    "    else:\n",
    "        dfi[\"age_educ\"+str(j)]=dfi[\"age\"]*dfi[\"educ_\"+str(j)+\".0\"]"
   ]
  },
  {
   "cell_type": "code",
   "execution_count": 26,
   "metadata": {},
   "outputs": [],
   "source": [
    "#Create new variables\n",
    "dfi[\"p6426_2\"]=dfi[\"p6426\"]**2\n",
    "dfi[\"p6426_3\"]=dfi[\"p6426\"]**3\n",
    "dfi[\"p6426_age\"]=dfi[\"p6426\"]*dfi[\"age\"]\n",
    "dfi[\"p6426_2_age\"]=dfi[\"p6426_2\"]*dfi[\"age\"]\n",
    "dfi[\"p6426_3_age\"]=dfi[\"p6426_3\"]*dfi[\"age\"]\n"
   ]
  },
  {
   "cell_type": "code",
   "execution_count": 27,
   "metadata": {},
   "outputs": [],
   "source": [
    "#Prediction\n",
    "#Split the data\n",
    "dfi_train, dfi_test = train_test_split(\n",
    "                                dfi,\n",
    "                                test_size=.3, \n",
    "                                random_state=911)"
   ]
  },
  {
   "cell_type": "code",
   "execution_count": 28,
   "metadata": {},
   "outputs": [],
   "source": [
    "#Define X matrix\n",
    "oficio=[\"oficio_1.0\"]\n",
    "for i in range(2,99):\n",
    "    oficio.append(\"oficio_\"+str(i)+\".0\")\n",
    "    list1=['oficio_10.0', 'oficio_22.0', 'oficio_23.0', 'oficio_24.0', 'oficio_25.0', 'oficio_26.0', 'oficio_27.0', 'oficio_28.0', 'oficio_29.0', 'oficio_46.0', 'oficio_47.0', 'oficio_48.0', 'oficio_64.0', 'oficio_65.0', 'oficio_66.0', 'oficio_67.0', 'oficio_68.0', 'oficio_69.0', 'oficio_71.0']\n",
    "    oficio2=[i for i in oficio if i not in list1]\n",
    "\n",
    "x1=(dfi_train[[\"sizeFirm\", \"hoursWorkUsual\", \"formal\", \"p6426\", \"educ_3.0\", \"educ_4.0\", \n",
    "\"educ_5.0\", \"educ_6.0\", \"educ_7.0\", \"relab_2.0\", \"relab_3.0\" , \"relab_4.0\", \"relab_5.0\", \"relab_6.0\", \n",
    "\"relab_7.0\", \"relab_8.0\" , \"relab_9.0\", \"mes_1.0\", \"mes_2.0\", \"mes_3.0\", \"mes_4.0\", \"mes_5.0\", \"mes_6.0\", \n",
    "\"mes_7.0\", \"mes_9.0\", \"mes_10.0\", \"mes_11.0\", \"mes_12.0\"]])\n",
    "x2=dfi_train[oficio2]\n",
    "X_train=pd.concat([x1,x2], axis=1, join=\"inner\")\n",
    "\n",
    "\n",
    "x11=(dfi_test[[\"sizeFirm\", \"hoursWorkUsual\", \"formal\", \"p6426\", \"educ_3.0\", \"educ_4.0\", \n",
    "\"educ_5.0\", \"educ_6.0\", \"educ_7.0\", \"relab_2.0\", \"relab_3.0\" , \"relab_4.0\", \"relab_5.0\", \"relab_6.0\", \n",
    "\"relab_7.0\", \"relab_8.0\" , \"relab_9.0\", \"mes_1.0\", \"mes_2.0\", \"mes_3.0\", \"mes_4.0\", \"mes_5.0\", \"mes_6.0\", \n",
    "\"mes_7.0\", \"mes_9.0\", \"mes_10.0\", \"mes_11.0\", \"mes_12.0\"]])\n",
    "x22=dfi_test[oficio2]\n",
    "X_test=pd.concat([x11,x22], axis=1, join=\"inner\")\n",
    "\n"
   ]
  },
  {
   "cell_type": "code",
   "execution_count": 41,
   "metadata": {},
   "outputs": [
    {
     "data": {
      "text/plain": [
       "1179468.9441737835"
      ]
     },
     "execution_count": 41,
     "metadata": {},
     "output_type": "execute_result"
    }
   ],
   "source": [
    "rmsemodels=[0]*10\n",
    "\n",
    "#Models\n",
    "#Model 1 earnings age age2\n",
    "y_train=dfi_train[\"earnings\"]\n",
    "y_test=dfi_test[\"earnings\"]\n",
    "x_train=dfi_train[[\"age\", \"age2\"]]\n",
    "x_test=dfi_test[[\"age\", \"age2\"]]\n",
    "model1=LinearRegression(fit_intercept=True)\n",
    "results= model1.fit(x_train,y_train)\n",
    "y_hattest=results.predict(x_test)\n",
    "\n",
    "rmse1=mean_squared_error(y_test,y_hattest, squared=False)\n",
    "rmse1\n",
    "rmsemodels[0]=rmse1\n",
    "rmse1"
   ]
  },
  {
   "cell_type": "code",
   "execution_count": 42,
   "metadata": {},
   "outputs": [],
   "source": [
    "#Models  \n",
    "#Model 2 log_earnings female\n",
    "y_train=dfi_train[\"log_earnings\"]\n",
    "y_test=dfi_test[\"log_earnings\"]\n",
    "x_train=dfi_train[[\"female\"]]\n",
    "x_test=dfi_test[[\"female\"]]\n",
    "model2=LinearRegression(fit_intercept=True)\n",
    "results2= model2.fit(x_train,y_train)\n",
    "y_hattest=results2.predict(x_test)\n",
    "rmse2=mean_squared_error(y_test,y_hattest, squared=False)\n",
    "rmse2\n",
    "rmsemodels[1]=rmse2"
   ]
  },
  {
   "cell_type": "code",
   "execution_count": 43,
   "metadata": {},
   "outputs": [],
   "source": [
    "#Models \n",
    "#Model 3 log_earnings female age age2 agefemale agefemale\n",
    "y_train=dfi_train[\"log_earnings\"]\n",
    "y_test=dfi_test[\"log_earnings\"]\n",
    "x_train=dfi_train[[\"female\", \"age\", \"age2\", \"female_age\", \"female_age2\"]]\n",
    "x_test=dfi_test[[\"female\", \"age\", \"age2\", \"female_age\", \"female_age2\"]]\n",
    "model1=LinearRegression(fit_intercept=True)\n",
    "results= model1.fit(x_train,y_train)\n",
    "y_hattest=results.predict(x_test)\n",
    "rmse3=mean_squared_error(y_test,y_hattest, squared=False)\n",
    "rmse3\n",
    "rmsemodels[2]=rmse3"
   ]
  },
  {
   "cell_type": "code",
   "execution_count": 44,
   "metadata": {},
   "outputs": [],
   "source": [
    "#Models \n",
    "#Model 4 log_earnings female age age2 agefemale agefemale X\n",
    "y_train=dfi_train[\"log_earnings\"]\n",
    "y_test=dfi_test[\"log_earnings\"]\n",
    "\n",
    "\n",
    "\n",
    "x_trainsub=dfi_train[[\"female\", \"age\", \"age2\", \"female_age\", \"female_age2\"]]\n",
    "x_testsub=dfi_test[[\"female\", \"age\", \"age2\", \"female_age\", \"female_age2\"]]\n",
    "\n",
    "x_train=pd.concat([X_train,x_trainsub], axis=1, join=\"inner\")\n",
    "x_test=pd.concat([X_test,x_testsub], axis=1, join=\"inner\")\n",
    "\n",
    "model1=LinearRegression(fit_intercept=True)\n",
    "results= model1.fit(x_train,y_train)\n",
    "y_hattest=results.predict(x_test)\n",
    "rmse4=mean_squared_error(y_test,y_hattest, squared=False)\n",
    "rmse4\n",
    "\n",
    "rmsemodels[3]=rmse4"
   ]
  },
  {
   "cell_type": "code",
   "execution_count": 47,
   "metadata": {},
   "outputs": [],
   "source": [
    "#Models \n",
    "#Model 5 age age2 hoursworkusual hoursworkusual2 agehoursworkusual agehoursworkusual2 X\n",
    "y_train=dfi_train[\"log_earnings\"]\n",
    "y_test=dfi_test[\"log_earnings\"]\n",
    "\n",
    "\n",
    "x_trainsub=dfi_train[[\"age\", \"age2\", \"hoursWorkUsual\", \"hours2\", \"age_hours\" , \"age_hours2\"]]\n",
    "x_testsub=dfi_test[[\"age\", \"age2\", \"hoursWorkUsual\", \"hours2\", \"age_hours\" , \"age_hours2\"]]\n",
    "\n",
    "x_train=pd.concat([X_train,x_trainsub], axis=1, join=\"inner\")\n",
    "x_test=pd.concat([X_test,x_testsub], axis=1, join=\"inner\")\n",
    "\n",
    "model1=LinearRegression(fit_intercept=True)\n",
    "results= model1.fit(x_train,y_train)\n",
    "y_hattest=results.predict(x_test)\n",
    "rmse5=mean_squared_error(y_test,y_hattest, squared=False)\n",
    "rmse5\n",
    "\n",
    "rmsemodels[4]=rmse5\n"
   ]
  },
  {
   "cell_type": "code",
   "execution_count": 56,
   "metadata": {},
   "outputs": [],
   "source": [
    "#Models \n",
    "#Model 6 age age2 female educ relab formal oficio p7090 mes reg_salud estrato \n",
    "y_train=dfi_train[\"log_earnings\"]\n",
    "y_test=dfi_test[\"log_earnings\"]\n",
    "\n",
    "\n",
    "educ=[\"educ_1.0\"]\n",
    "for i in range(1,8):\n",
    "    educ.append(\"educ_\"+str(i)+\".0\")\n",
    "    list1=['educ_2.0']\n",
    "    educ2=[i for i in educ if i not in list1]\n",
    "x_et=dfi_train[educ2]\n",
    "x_ett=dfi_test[educ2]\n",
    "\n",
    "relab=[\"relab_1.0\"]\n",
    "for i in range(1,10):\n",
    "    relab.append(\"relab_\"+str(i)+\".0\")\n",
    "x_ret=dfi_train[relab]\n",
    "x_rett=dfi_test[relab]\n",
    "\n",
    "   \n",
    "regs=[\"regs_1.0\"]\n",
    "for i in range(1,4):\n",
    "    regs.append(\"regs_\"+str(i)+\".0\")\n",
    "x_regt=dfi_train[regs]\n",
    "x_regtt=dfi_test[regs]\n",
    "\n",
    "\n",
    "estrato2=[\"estrato_1.0\"]\n",
    "for i in range(1,7):\n",
    "    estrato2.append(\"estrato_\"+str(i)+\".0\")\n",
    "x_est=dfi_train[estrato2]\n",
    "x_estt=dfi_test[estrato2]\n",
    "\n",
    "mes2=[\"mes_1.0\"]\n",
    "for i in range(1,8):\n",
    "    mes2.append(\"mes_\"+str(i)+\".0\")\n",
    "x_mest=dfi_train[mes2]\n",
    "x_mestt=dfi_test[mes2]\n",
    "\n",
    "oficio=[\"oficio_1.0\"]\n",
    "for i in range(2,99):\n",
    "    oficio.append(\"oficio_\"+str(i)+\".0\")\n",
    "    list1=['oficio_10.0', 'oficio_22.0', 'oficio_23.0', 'oficio_24.0', 'oficio_25.0', 'oficio_26.0', 'oficio_27.0', 'oficio_28.0', 'oficio_29.0', 'oficio_46.0', 'oficio_47.0', 'oficio_48.0', 'oficio_64.0', 'oficio_65.0', 'oficio_66.0', 'oficio_67.0', 'oficio_68.0', 'oficio_69.0', 'oficio_71.0']\n",
    "    oficio2=[i for i in oficio if i not in list1]\n",
    "x_oficiot=dfi_train[oficio2]\n",
    "x_oficiott=dfi_test[oficio2]\n",
    "\n",
    "\n",
    "x_trainsub=dfi_train[[\"age\", \"age2\", \"female\", \"formal\" , \"p7090\" ]]\n",
    "x_testsub=dfi_test[[\"age\", \"age2\", \"female\", \"formal\" , \"p7090\" ]]\n",
    "\n",
    "\n",
    "\n",
    "x_train=pd.concat([x_et, x_ret, x_regt, x_est, x_mest, x_oficiot,x_trainsub], axis=1, join=\"inner\")\n",
    "x_test=pd.concat([x_ett, x_rett, x_regtt, x_estt, x_mestt, x_oficiott,x_trainsub], axis=1, join=\"inner\")\n",
    "\n"
   ]
  },
  {
   "cell_type": "code",
   "execution_count": null,
   "metadata": {},
   "outputs": [],
   "source": [
    "#Run Model 6\n",
    "model1=LinearRegression(fit_intercept=True)\n",
    "results= model1.fit(x_train,y_train)\n",
    "y_hattest=results.predict(x_test)\n",
    "rmse5=mean_squared_error(y_test,y_hattest, squared=False)\n",
    "rmse6\n",
    "\n",
    "rmsemodels[5]=rmse6"
   ]
  },
  {
   "cell_type": "code",
   "execution_count": null,
   "metadata": {},
   "outputs": [],
   "source": [
    "#Models \n",
    "#Model 7 age age2 female educ femalexeduc p7090 femalexrelab relab X\n",
    "y_train=dfi_train[\"log_earnings\"]\n",
    "y_test=dfi_test[\"log_earnings\"]\n",
    "\n",
    "relab2=[\"relab_1.0\"]\n",
    "for i in range(1,10):\n",
    "    relab2.append(\"relab_\"+str(i)+\".0\")\n",
    "x_ret=dfi_train[relab2]\n",
    "x_rett=dfi_test[relab2]\n",
    "\n",
    "\n",
    "\n",
    "x_trainsub=dfi_train[[\"age\", \"age2\", \"female\" , \"educ\" , \"p7090\"]]\n",
    "x_testsub=dfi_test[[\"age\", \"age2\", \"hoursworkusual\", \"hours2\", \"age_hours\" , \"age_hours2\"]]\n",
    "\n",
    "x_train=pd.concat([X_train, x_ret ,x_trainsub], axis=1, join=\"inner\")\n",
    "x_test=pd.concat([X_test, x_rett ,x_testsub], axis=1, join=\"inner\")\n",
    "\n",
    "model1=LinearRegression(fit_intercept=True)\n",
    "results= model1.fit(x_train,y_train)\n",
    "y_hattest=results.predict(x_test)\n",
    "rmse7=mean_squared_error(y_test,y_hattest, squared=False)\n",
    "rmse7\n",
    "\n",
    "rmsemodels[6]=rmse7"
   ]
  },
  {
   "cell_type": "code",
   "execution_count": null,
   "metadata": {},
   "outputs": [],
   "source": [
    "#Models \n",
    "#Model 8 age age2 p7510s1a1 p7510s7a1 p7090 X\n",
    "y_train=dfi_train[\"log_earnings\"]\n",
    "y_test=dfi_test[\"log_earnings\"]\n",
    "\n",
    "\n",
    "x_trainsub=dfi_train[[\"age\", \"age2\", \"p7510s1a1\" , \"p7510s7a1\" , \"p7090\"]]\n",
    "x_testsub=dfi_test[[\"age\", \"age2\", \"p7510s1a1\" , \"p7510s7a1\" , \"p7090\"]]\n",
    "\n",
    "x_train=pd.concat([X_train,x_trainsub], axis=1, join=\"inner\")\n",
    "x_test=pd.concat([X_test, x_testsub], axis=1, join=\"inner\")\n",
    "\n",
    "model1=LinearRegression(fit_intercept=True)\n",
    "results= model1.fit(x_train,y_train)\n",
    "y_hattest=results.predict(x_test)\n",
    "rmse8=mean_squared_error(y_test,y_hattest, squared=False)\n",
    "rmse8\n",
    "\n",
    "rmsemodels[7]=rmse8"
   ]
  },
  {
   "cell_type": "code",
   "execution_count": null,
   "metadata": {},
   "outputs": [],
   "source": [
    "#Models \n",
    "#Model 9 p6426 p6426_2 p6426_3 age p7090 age2 p6426Xage p6426_2age p6426_3age  X\n",
    "y_train=dfi_train[\"log_earnings\"]\n",
    "y_test=dfi_test[\"log_earnings\"]\n",
    "\n",
    "\n",
    "x_trainsub=dfi_train[[\"p6426\" , \"p6426_2\" , \"p6426_3\" , \"age\" , \"age2\" , \"p6426_age\" , \"p6426_2_age\" , \"p6426_3_age\"]]\n",
    "x_testsub=dfi_test[[\"p6426\" , \"p6426_2\" , \"p6426_3\" , \"age\" , \"age2\" , \"p6426_age\" , \"p6426_2_age\" , \"p6426_3_age\"]]\n",
    "\n",
    "x_train=pd.concat([X_train,x_trainsub], axis=1, join=\"inner\")\n",
    "x_test=pd.concat([X_test, x_testsub], axis=1, join=\"inner\")\n",
    "\n",
    "model1=LinearRegression(fit_intercept=True)\n",
    "results= model1.fit(x_train,y_train)\n",
    "y_hattest=results.predict(x_test)\n",
    "rmse8=mean_squared_error(y_test,y_hattest, squared=False)\n",
    "rmse8\n",
    "\n",
    "rmsemodels[7]=rmse8"
   ]
  },
  {
   "cell_type": "code",
   "execution_count": null,
   "metadata": {},
   "outputs": [],
   "source": [
    "#Models \n",
    "#Model 10  agexeduc educ age p7090 age2 X\n",
    "y_train=dfi_train[\"log_earnings\"]\n",
    "y_test=dfi_test[\"log_earnings\"]\n",
    "\n",
    "\n",
    "\n",
    "x_trainsub=dfi_train[[\"educ\" , \"age\" , \"p7090\" , \"age2\"]]\n",
    "x_trainsub=dfi_train[[\"educ\" , \"age\" , \"p7090\" , \"age2\"]]\n",
    "\n",
    "x_train=pd.concat([X_train,x_trainsub], axis=1, join=\"inner\")\n",
    "x_test=pd.concat([X_test, x_testsub], axis=1, join=\"inner\")\n",
    "\n",
    "model1=LinearRegression(fit_intercept=True)\n",
    "results= model1.fit(x_train,y_train)\n",
    "y_hattest=results.predict(x_test)\n",
    "rmse10=mean_squared_error(y_test,y_hattest, squared=False)\n",
    "rmse10\n",
    "\n",
    "rmsemodels[9]=rmse10"
   ]
  }
 ],
 "metadata": {
  "kernelspec": {
   "display_name": "Python 3.9.5",
   "language": "python",
   "name": "python3"
  },
  "language_info": {
   "codemirror_mode": {
    "name": "ipython",
    "version": 3
   },
   "file_extension": ".py",
   "mimetype": "text/x-python",
   "name": "python",
   "nbconvert_exporter": "python",
   "pygments_lexer": "ipython3",
   "version": "3.9.5"
  },
  "orig_nbformat": 4,
  "vscode": {
   "interpreter": {
    "hash": "2cfb6306446bea13a3e47fcbfe58cff8093a850cd3ae6d4f67eb0c81a97b8389"
   }
  }
 },
 "nbformat": 4,
 "nbformat_minor": 2
}
