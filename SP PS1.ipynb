{
 "cells": [
  {
   "cell_type": "markdown",
   "metadata": {},
   "source": [
    "## Problem Set 1 - BDMLAE"
   ]
  },
  {
   "cell_type": "code",
   "execution_count": null,
   "metadata": {},
   "outputs": [],
   "source": [
    "#Packages:\n",
    "import pandas as pd\n",
    "import numpy as np\n",
    "import pyreadr as pyr\n",
    "import sklearn as sk\n",
    "import scipy as sc\n",
    "from scipy.stats import bootstrap\n",
    "from sklearn.impute import KNNImputer"
   ]
  },
  {
   "cell_type": "code",
   "execution_count": null,
   "metadata": {},
   "outputs": [],
   "source": [
    "#Setting work space and master data frame:\n",
    "bd=pyr.read_r(\"C:/Users/ASUS/Documents/Universidad de los Andes/2022-2/Big Data and Machine Learning for Applied Economics/Taller 1/PS1_BD-ML/bdPS1.Rdata\")\n",
    "print(bd.keys()) #Load database.\n",
    "df0=bd[\"df\"]\n",
    "df=df0.drop(df0[df0.age<18].index) #Restrict the data to legal age individuals (age>=18).\n",
    "df=df.drop(df[df.ocu==0].index) #Restrict the data to employed individuals (ocu==1).\n",
    "df=(df[[\"age\", \"clase\", \"maxEducLevel\", \"sizeFirm\", \"oficio\", \"hoursWorkUsual\", \"formal\", \"ingtot\", \"mes\", \"estrato1\", \"sex\", \n",
    "\"regSalud\", \"p6426\", \"p7090\",\"p7510s7a1\", \"impa\", \"isa\", \"impaes\", \"isaes\", \"fex_c\", \"fweight\", \"relab\"]]) #Relevant variables selection. "
   ]
  },
  {
   "cell_type": "code",
   "execution_count": null,
   "metadata": {},
   "outputs": [],
   "source": [
    "#Convert categorical variables to dummy variables:\n",
    "oficio_d=pd.get_dummies(df[\"oficio\"], prefix=\"oficio\") \n",
    "sizeFirm_d=pd.get_dummies(df[\"sizeFirm\"], prefix=\"size\") \n",
    "estrato1_d=pd.get_dummies(df[\"estrato1\"], prefix=\"estrato\") \n",
    "regSalud_d=pd.get_dummies(df[\"regSalud\"], prefix=\"regs\") \n",
    "maxeduc_d=pd.get_dummies(df[\"maxEducLevel\"], prefix=\"educ\") \n",
    "relab_d=pd.get_dummies(df[\"relab\"], prefix=\"relab\") \n",
    "\n",
    "#Merge dummy's variables data frame with master data frame:\n",
    "df=pd.merge(df, oficio_d, left_index=True, right_index=True) \n",
    "df=pd.merge(df, sizeFirm_d, left_index=True, right_index=True)\n",
    "df=pd.merge(df, estrato1_d, left_index=True, right_index=True)\n",
    "df=pd.merge(df, regSalud_d, left_index=True, right_index=True)\n",
    "df=pd.merge(df, maxeduc_d, left_index=True, right_index=True)\n",
    "df=pd.merge(df, relab_d, left_index=True, right_index=True)\n",
    "df[\"p7090\"]=np.where(df[\"p7090\"]==2, 0, 1)"
   ]
  },
  {
   "cell_type": "code",
   "execution_count": null,
   "metadata": {},
   "outputs": [],
   "source": [
    "#Transform categorial atribute variables to numerical variable: \n",
    "df[\"hoursWorkUsual\"]=pd.to_numeric(df[\"hoursWorkUsual\"])\n",
    "df[\"formal\"]=pd.to_numeric(df[\"formal\"])\n",
    "df[\"p6426\"]=pd.to_numeric(df[\"p6426\"])\n",
    "\n",
    "#Descriptive statistics data frame:\n",
    "ds=(df[[\"ingtot\", \"age\", \"hoursWorkUsual\", \"p6426\", \"clase\", \"sex\", \"formal\", \"p7090\", \"estrato_1\", \"estrato_2\", \"estrato_3\", \"estrato_4\", \n",
    "\"estrato_5\", \"estrato_6\", \"regs_1\", \"regs_2\", \"regs_3\", \"educ_1\", \"educ_3\", \"educ_4\", \"educ_5\", \"educ_6\", \"educ_7\"]].describe(include=\"all\"))\n",
    "ds=ds.T\n",
    "ds=ds[[\"count\", \"mean\", \"std\", \"min\", \"50%\", \"max\"]]\n",
    "print(ds.to_latex())"
   ]
  },
  {
   "cell_type": "code",
   "execution_count": null,
   "metadata": {},
   "outputs": [],
   "source": [
    "#Missing values:\n",
    "#imputer=KNNImputer(n_neighbors=10)\n",
    "#imputer.fit(df)\n",
    "#df=pd.DataFrame(imputer.transform(df))"
   ]
  }
 ],
 "metadata": {
  "kernelspec": {
   "display_name": "Python 3.10.6 64-bit",
   "language": "python",
   "name": "python3"
  },
  "language_info": {
   "codemirror_mode": {
    "name": "ipython",
    "version": 3
   },
   "file_extension": ".py",
   "mimetype": "text/x-python",
   "name": "python",
   "nbconvert_exporter": "python",
   "pygments_lexer": "ipython3",
   "version": "3.10.6"
  },
  "orig_nbformat": 4,
  "vscode": {
   "interpreter": {
    "hash": "27f6fea6f47ae512550f0b8facdbd035a93e1dd89633f7bf2dd00a2502c71d0d"
   }
  }
 },
 "nbformat": 4,
 "nbformat_minor": 2
}
