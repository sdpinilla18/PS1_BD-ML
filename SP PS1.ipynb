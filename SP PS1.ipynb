{
 "cells": [
  {
   "cell_type": "markdown",
   "metadata": {},
   "source": [
    "## Problem Set 1 - BDMLAE"
   ]
  },
  {
   "cell_type": "code",
   "execution_count": 1,
   "metadata": {},
   "outputs": [],
   "source": [
    "#Packages:\n",
    "import pandas as pd\n",
    "import numpy as np\n",
    "import pyreadr as pyr\n",
    "import sklearn as sk\n",
    "import scipy as sc\n",
    "from scipy.stats import bootstrap\n",
    "from sklearn.impute import KNNImputer"
   ]
  },
  {
   "cell_type": "code",
   "execution_count": 2,
   "metadata": {},
   "outputs": [
    {
     "name": "stdout",
     "output_type": "stream",
     "text": [
      "odict_keys(['df'])\n"
     ]
    }
   ],
   "source": [
    "#Setting work space and master data frame:\n",
    "bd=pyr.read_r(\"C:/Users/ASUS/Documents/Universidad de los Andes/2022-2/Big Data and Machine Learning for Applied Economics/Taller 1/PS1_BD-ML/bdPS1.Rdata\")\n",
    "print(bd.keys()) #Load database.\n",
    "df0=bd[\"df\"]\n",
    "df=df0.drop(df0[df0.age<18].index) #Restrict the data to legal age individuals (age>=18).\n",
    "df=df.drop(df[df.ocu==0].index) #Restrict the data to employed individuals (ocu==1).\n",
    "df=(df[[\"age\", \"clase\", \"maxEducLevel\", \"sizeFirm\", \"oficio\", \"hoursWorkUsual\", \"formal\", \"ingtot\", \"mes\", \"estrato1\", \"sex\", \n",
    "\"regSalud\", \"p6426\", \"p7090\",\"p7510s7a1\", \"impa\", \"isa\", \"impaes\", \"isaes\", \"fex_c\", \"fweight\", \"relab\"]]) #Relevant variables selection. "
   ]
  },
  {
   "cell_type": "code",
   "execution_count": 3,
   "metadata": {},
   "outputs": [
    {
     "name": "stderr",
     "output_type": "stream",
     "text": [
      "c:\\Users\\ASUS\\AppData\\Local\\Programs\\Python\\Python310\\lib\\site-packages\\pandas\\core\\algorithms.py:798: FutureWarning: In a future version, the Index constructor will not infer numeric dtypes when passed object-dtype sequences (matching Series behavior)\n",
      "  uniques = Index(uniques)\n"
     ]
    }
   ],
   "source": [
    "#Convert categorical variables to dummy variables:\n",
    "oficio_d=pd.get_dummies(df[\"oficio\"], prefix=\"oficio\") \n",
    "sizeFirm_d=pd.get_dummies(df[\"sizeFirm\"], prefix=\"size\") \n",
    "estrato1_d=pd.get_dummies(df[\"estrato1\"], prefix=\"estrato\") \n",
    "regSalud_d=pd.get_dummies(df[\"regSalud\"], prefix=\"regs\") \n",
    "maxeduc_d=pd.get_dummies(df[\"maxEducLevel\"], prefix=\"educ\") \n",
    "relab_d=pd.get_dummies(df[\"relab\"], prefix=\"relab\") \n",
    "\n",
    "#Merge dummy's variables data frame with master data frame:\n",
    "df=pd.merge(df, oficio_d, left_index=True, right_index=True) \n",
    "df=pd.merge(df, sizeFirm_d, left_index=True, right_index=True)\n",
    "df=pd.merge(df, estrato1_d, left_index=True, right_index=True)\n",
    "df=pd.merge(df, regSalud_d, left_index=True, right_index=True)\n",
    "df=pd.merge(df, maxeduc_d, left_index=True, right_index=True)\n",
    "df=pd.merge(df, relab_d, left_index=True, right_index=True)\n",
    "df[\"p7090\"]=np.where(df[\"p7090\"]==2, 0, 1)"
   ]
  },
  {
   "cell_type": "code",
   "execution_count": 4,
   "metadata": {},
   "outputs": [
    {
     "name": "stdout",
     "output_type": "stream",
     "text": [
      "\\begin{tabular}{lrrrrrr}\n",
      "\\toprule\n",
      "{} &    count &          mean &           std &   min &           50\\% &           max \\\\\n",
      "\\midrule\n",
      "ingtot         &  16542.0 &  1.769379e+06 &  2.675628e+06 &   0.0 &  1.051160e+06 &  8.583333e+07 \\\\\n",
      "age            &  16542.0 &  3.943616e+01 &  1.348284e+01 &  18.0 &  3.800000e+01 &  9.400000e+01 \\\\\n",
      "hoursWorkUsual &  16542.0 &  4.700774e+01 &  1.554274e+01 &   1.0 &  4.800000e+01 &  1.300000e+02 \\\\\n",
      "p6426          &  16542.0 &  6.375795e+01 &  8.948775e+01 &   0.0 &  2.400000e+01 &  7.200000e+02 \\\\\n",
      "clase          &  16542.0 &  1.000000e+00 &  0.000000e+00 &   1.0 &  1.000000e+00 &  1.000000e+00 \\\\\n",
      "sex            &  16542.0 &  5.299843e-01 &  4.991152e-01 &   0.0 &  1.000000e+00 &  1.000000e+00 \\\\\n",
      "formal         &  16542.0 &  5.868093e-01 &  4.924214e-01 &   0.0 &  1.000000e+00 &  1.000000e+00 \\\\\n",
      "p7090          &  16542.0 &  9.684440e-02 &  2.957547e-01 &   0.0 &  0.000000e+00 &  1.000000e+00 \\\\\n",
      "estrato\\_1      &  16542.0 &  1.071817e-01 &  3.093535e-01 &   0.0 &  0.000000e+00 &  1.000000e+00 \\\\\n",
      "estrato\\_2      &  16542.0 &  4.180873e-01 &  4.932596e-01 &   0.0 &  0.000000e+00 &  1.000000e+00 \\\\\n",
      "estrato\\_3      &  16542.0 &  3.616250e-01 &  4.804855e-01 &   0.0 &  0.000000e+00 &  1.000000e+00 \\\\\n",
      "estrato\\_4      &  16542.0 &  6.806916e-02 &  2.518722e-01 &   0.0 &  0.000000e+00 &  1.000000e+00 \\\\\n",
      "estrato\\_5      &  16542.0 &  1.934470e-02 &  1.377375e-01 &   0.0 &  0.000000e+00 &  1.000000e+00 \\\\\n",
      "estrato\\_6      &  16542.0 &  2.569218e-02 &  1.582201e-01 &   0.0 &  0.000000e+00 &  1.000000e+00 \\\\\n",
      "regs\\_1         &  16542.0 &  7.465845e-01 &  4.349799e-01 &   0.0 &  1.000000e+00 &  1.000000e+00 \\\\\n",
      "regs\\_2         &  16542.0 &  2.545037e-02 &  1.574933e-01 &   0.0 &  0.000000e+00 &  1.000000e+00 \\\\\n",
      "regs\\_3         &  16542.0 &  1.421231e-01 &  3.491869e-01 &   0.0 &  0.000000e+00 &  1.000000e+00 \\\\\n",
      "educ\\_1         &  16542.0 &  7.496071e-03 &  8.625734e-02 &   0.0 &  0.000000e+00 &  1.000000e+00 \\\\\n",
      "educ\\_3         &  16542.0 &  4.648773e-02 &  2.105452e-01 &   0.0 &  0.000000e+00 &  1.000000e+00 \\\\\n",
      "educ\\_4         &  16542.0 &  9.128280e-02 &  2.880196e-01 &   0.0 &  0.000000e+00 &  1.000000e+00 \\\\\n",
      "educ\\_5         &  16542.0 &  1.145569e-01 &  3.184961e-01 &   0.0 &  0.000000e+00 &  1.000000e+00 \\\\\n",
      "educ\\_6         &  16542.0 &  3.194293e-01 &  4.662696e-01 &   0.0 &  0.000000e+00 &  1.000000e+00 \\\\\n",
      "educ\\_7         &  16542.0 &  4.206867e-01 &  4.936843e-01 &   0.0 &  0.000000e+00 &  1.000000e+00 \\\\\n",
      "\\bottomrule\n",
      "\\end{tabular}\n",
      "\n"
     ]
    },
    {
     "name": "stderr",
     "output_type": "stream",
     "text": [
      "C:\\Users\\ASUS\\AppData\\Local\\Temp\\ipykernel_11856\\1440160681.py:11: FutureWarning: In future versions `DataFrame.to_latex` is expected to utilise the base implementation of `Styler.to_latex` for formatting and rendering. The arguments signature may therefore change. It is recommended instead to use `DataFrame.style.to_latex` which also contains additional functionality.\n",
      "  print(ds.to_latex())\n"
     ]
    }
   ],
   "source": [
    "#Transform categorial atribute variables to numerical variable: \n",
    "df[\"hoursWorkUsual\"]=pd.to_numeric(df[\"hoursWorkUsual\"])\n",
    "df[\"formal\"]=pd.to_numeric(df[\"formal\"])\n",
    "df[\"p6426\"]=pd.to_numeric(df[\"p6426\"])\n",
    "\n",
    "#Descriptive statistics data frame:\n",
    "ds=(df[[\"ingtot\", \"age\", \"hoursWorkUsual\", \"p6426\", \"clase\", \"sex\", \"formal\", \"p7090\", \"estrato_1\", \"estrato_2\", \"estrato_3\", \"estrato_4\", \n",
    "\"estrato_5\", \"estrato_6\", \"regs_1\", \"regs_2\", \"regs_3\", \"educ_1\", \"educ_3\", \"educ_4\", \"educ_5\", \"educ_6\", \"educ_7\"]].describe(include=\"all\"))\n",
    "ds=ds.T\n",
    "ds=ds[[\"count\", \"mean\", \"std\", \"min\", \"50%\", \"max\"]]\n",
    "print(ds.to_latex())"
   ]
  },
  {
   "cell_type": "code",
   "execution_count": null,
   "metadata": {},
   "outputs": [],
   "source": [
    "#Missing values:\n",
    "#imputer=KNNImputer(n_neighbors=10)\n",
    "#imputer.fit(df)\n",
    "#df=pd.DataFrame(imputer.transform(df))"
   ]
  }
 ],
 "metadata": {
  "kernelspec": {
   "display_name": "Python 3.10.6 64-bit",
   "language": "python",
   "name": "python3"
  },
  "language_info": {
   "codemirror_mode": {
    "name": "ipython",
    "version": 3
   },
   "file_extension": ".py",
   "mimetype": "text/x-python",
   "name": "python",
   "nbconvert_exporter": "python",
   "pygments_lexer": "ipython3",
   "version": "3.10.6"
  },
  "orig_nbformat": 4,
  "vscode": {
   "interpreter": {
    "hash": "27f6fea6f47ae512550f0b8facdbd035a93e1dd89633f7bf2dd00a2502c71d0d"
   }
  }
 },
 "nbformat": 4,
 "nbformat_minor": 2
}
