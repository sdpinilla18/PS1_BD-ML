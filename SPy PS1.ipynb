{
 "cells": [
  {
   "cell_type": "markdown",
   "metadata": {},
   "source": [
    "## Problem Set 1 - BDMLAE"
   ]
  },
  {
   "cell_type": "code",
   "execution_count": 1,
   "metadata": {},
   "outputs": [],
   "source": [
    "#Packages:\n",
    "import pandas as pd\n",
    "import numpy as np\n",
    "import pyreadr as pyr\n",
    "import sklearn as sk\n",
    "import scipy as sc\n",
    "import statsmodels.api as sm\n",
    "from scipy.stats import bootstrap\n",
    "from sklearn.impute import KNNImputer"
   ]
  },
  {
   "cell_type": "code",
   "execution_count": 2,
   "metadata": {},
   "outputs": [
    {
     "name": "stdout",
     "output_type": "stream",
     "text": [
      "odict_keys(['df'])\n"
     ]
    }
   ],
   "source": [
    "#Setting work space and master data frame:\n",
    "bd=pyr.read_r(\"C:/Users/ASUS/Documents/Universidad de los Andes/2022-2/Big Data and Machine Learning for Applied Economics/Taller 1/PS1_BD-ML/bdPS1.Rdata\")\n",
    "print(bd.keys()) #Load database.\n",
    "df0=bd[\"df\"]\n",
    "df=df0.drop(df0[df0.age<18].index) #Restrict the data to legal age individuals (age>=18).\n",
    "df=df.drop(df[df.ocu==0].index) #Restrict the data to employed individuals (ocu==1).\n",
    "dfsi=(df[[\"age\", \"maxEducLevel\", \"sizeFirm\", \"oficio\", \"hoursWorkUsual\", \"formal\", \"ingtot\", \"mes\", \"estrato1\", \"sex\", \n",
    "\"regSalud\", \"p6426\", \"p7090\",\"p7510s7a1\", \"impa\", \"isa\", \"impaes\", \"isaes\", \"relab\"]]) #Relevant variables selection. "
   ]
  },
  {
   "cell_type": "code",
   "execution_count": 3,
   "metadata": {},
   "outputs": [
    {
     "name": "stderr",
     "output_type": "stream",
     "text": [
      "C:\\Users\\ASUS\\AppData\\Local\\Temp\\ipykernel_18912\\2900239718.py:2: SettingWithCopyWarning: \n",
      "A value is trying to be set on a copy of a slice from a DataFrame\n",
      "\n",
      "See the caveats in the documentation: https://pandas.pydata.org/pandas-docs/stable/user_guide/indexing.html#returning-a-view-versus-a-copy\n",
      "  dfsi[\"impa\"].replace(0, 1, inplace=True)\n",
      "C:\\Users\\ASUS\\AppData\\Local\\Temp\\ipykernel_18912\\2900239718.py:3: SettingWithCopyWarning: \n",
      "A value is trying to be set on a copy of a slice from a DataFrame\n",
      "\n",
      "See the caveats in the documentation: https://pandas.pydata.org/pandas-docs/stable/user_guide/indexing.html#returning-a-view-versus-a-copy\n",
      "  dfsi[\"impa\"].replace(np.nan, 0, inplace=True)\n",
      "C:\\Users\\ASUS\\AppData\\Local\\Temp\\ipykernel_18912\\2900239718.py:4: SettingWithCopyWarning: \n",
      "A value is trying to be set on a copy of a slice from a DataFrame\n",
      "\n",
      "See the caveats in the documentation: https://pandas.pydata.org/pandas-docs/stable/user_guide/indexing.html#returning-a-view-versus-a-copy\n",
      "  dfsi[\"impaes\"].replace(0, 1, inplace=True)\n",
      "C:\\Users\\ASUS\\AppData\\Local\\Temp\\ipykernel_18912\\2900239718.py:5: SettingWithCopyWarning: \n",
      "A value is trying to be set on a copy of a slice from a DataFrame\n",
      "\n",
      "See the caveats in the documentation: https://pandas.pydata.org/pandas-docs/stable/user_guide/indexing.html#returning-a-view-versus-a-copy\n",
      "  dfsi[\"impaes\"].replace(np.nan, 0, inplace=True)\n",
      "C:\\Users\\ASUS\\AppData\\Local\\Temp\\ipykernel_18912\\2900239718.py:6: SettingWithCopyWarning: \n",
      "A value is trying to be set on a copy of a slice from a DataFrame\n",
      "\n",
      "See the caveats in the documentation: https://pandas.pydata.org/pandas-docs/stable/user_guide/indexing.html#returning-a-view-versus-a-copy\n",
      "  dfsi[\"isa\"].replace(0, 1, inplace=True)\n",
      "C:\\Users\\ASUS\\AppData\\Local\\Temp\\ipykernel_18912\\2900239718.py:7: SettingWithCopyWarning: \n",
      "A value is trying to be set on a copy of a slice from a DataFrame\n",
      "\n",
      "See the caveats in the documentation: https://pandas.pydata.org/pandas-docs/stable/user_guide/indexing.html#returning-a-view-versus-a-copy\n",
      "  dfsi[\"isa\"].replace(np.nan, 0, inplace=True)\n",
      "C:\\Users\\ASUS\\AppData\\Local\\Temp\\ipykernel_18912\\2900239718.py:8: SettingWithCopyWarning: \n",
      "A value is trying to be set on a copy of a slice from a DataFrame\n",
      "\n",
      "See the caveats in the documentation: https://pandas.pydata.org/pandas-docs/stable/user_guide/indexing.html#returning-a-view-versus-a-copy\n",
      "  dfsi[\"isaes\"].replace(0, 1, inplace=True)\n",
      "C:\\Users\\ASUS\\AppData\\Local\\Temp\\ipykernel_18912\\2900239718.py:9: SettingWithCopyWarning: \n",
      "A value is trying to be set on a copy of a slice from a DataFrame\n",
      "\n",
      "See the caveats in the documentation: https://pandas.pydata.org/pandas-docs/stable/user_guide/indexing.html#returning-a-view-versus-a-copy\n",
      "  dfsi[\"isaes\"].replace(np.nan, 0, inplace=True)\n",
      "C:\\Users\\ASUS\\AppData\\Local\\Temp\\ipykernel_18912\\2900239718.py:12: SettingWithCopyWarning: \n",
      "A value is trying to be set on a copy of a slice from a DataFrame.\n",
      "Try using .loc[row_indexer,col_indexer] = value instead\n",
      "\n",
      "See the caveats in the documentation: https://pandas.pydata.org/pandas-docs/stable/user_guide/indexing.html#returning-a-view-versus-a-copy\n",
      "  dfsi[\"impacomp\"]=dfsi[\"impa\"]+dfsi[\"impaes\"]\n",
      "C:\\Users\\ASUS\\AppData\\Local\\Temp\\ipykernel_18912\\2900239718.py:13: SettingWithCopyWarning: \n",
      "A value is trying to be set on a copy of a slice from a DataFrame.\n",
      "Try using .loc[row_indexer,col_indexer] = value instead\n",
      "\n",
      "See the caveats in the documentation: https://pandas.pydata.org/pandas-docs/stable/user_guide/indexing.html#returning-a-view-versus-a-copy\n",
      "  dfsi[\"isacomp\"]=dfsi[\"isa\"]+dfsi[\"isaes\"]\n",
      "C:\\Users\\ASUS\\AppData\\Local\\Temp\\ipykernel_18912\\2900239718.py:16: SettingWithCopyWarning: \n",
      "A value is trying to be set on a copy of a slice from a DataFrame.\n",
      "Try using .loc[row_indexer,col_indexer] = value instead\n",
      "\n",
      "See the caveats in the documentation: https://pandas.pydata.org/pandas-docs/stable/user_guide/indexing.html#returning-a-view-versus-a-copy\n",
      "  dfsi['impacomp']=dfsi['impacomp'].replace(0,np.nan)\n",
      "C:\\Users\\ASUS\\AppData\\Local\\Temp\\ipykernel_18912\\2900239718.py:17: SettingWithCopyWarning: \n",
      "A value is trying to be set on a copy of a slice from a DataFrame.\n",
      "Try using .loc[row_indexer,col_indexer] = value instead\n",
      "\n",
      "See the caveats in the documentation: https://pandas.pydata.org/pandas-docs/stable/user_guide/indexing.html#returning-a-view-versus-a-copy\n",
      "  dfsi['isacomp']=dfsi['isacomp'].replace(0,np.nan)\n",
      "C:\\Users\\ASUS\\AppData\\Local\\Temp\\ipykernel_18912\\2900239718.py:18: SettingWithCopyWarning: \n",
      "A value is trying to be set on a copy of a slice from a DataFrame.\n",
      "Try using .loc[row_indexer,col_indexer] = value instead\n",
      "\n",
      "See the caveats in the documentation: https://pandas.pydata.org/pandas-docs/stable/user_guide/indexing.html#returning-a-view-versus-a-copy\n",
      "  dfsi['impacomp']=dfsi['impacomp'].replace(1, 0)\n",
      "C:\\Users\\ASUS\\AppData\\Local\\Temp\\ipykernel_18912\\2900239718.py:19: SettingWithCopyWarning: \n",
      "A value is trying to be set on a copy of a slice from a DataFrame.\n",
      "Try using .loc[row_indexer,col_indexer] = value instead\n",
      "\n",
      "See the caveats in the documentation: https://pandas.pydata.org/pandas-docs/stable/user_guide/indexing.html#returning-a-view-versus-a-copy\n",
      "  dfsi['isacomp']=dfsi['isacomp'].replace(1, 0)\n",
      "C:\\Users\\ASUS\\AppData\\Local\\Temp\\ipykernel_18912\\2900239718.py:20: SettingWithCopyWarning: \n",
      "A value is trying to be set on a copy of a slice from a DataFrame.\n",
      "Try using .loc[row_indexer,col_indexer] = value instead\n",
      "\n",
      "See the caveats in the documentation: https://pandas.pydata.org/pandas-docs/stable/user_guide/indexing.html#returning-a-view-versus-a-copy\n",
      "  dfsi['impacomp']=dfsi['impacomp'].replace(2, 0)\n",
      "C:\\Users\\ASUS\\AppData\\Local\\Temp\\ipykernel_18912\\2900239718.py:21: SettingWithCopyWarning: \n",
      "A value is trying to be set on a copy of a slice from a DataFrame.\n",
      "Try using .loc[row_indexer,col_indexer] = value instead\n",
      "\n",
      "See the caveats in the documentation: https://pandas.pydata.org/pandas-docs/stable/user_guide/indexing.html#returning-a-view-versus-a-copy\n",
      "  dfsi['isacomp']=dfsi['isacomp'].replace(2, 0)\n"
     ]
    },
    {
     "data": {
      "text/plain": [
       "age               0.000000\n",
       "maxEducLevel      0.000060\n",
       "sizeFirm          0.000000\n",
       "oficio            0.000000\n",
       "hoursWorkUsual    0.000000\n",
       "formal            0.000000\n",
       "ingtot            0.000000\n",
       "mes               0.000000\n",
       "estrato1          0.000000\n",
       "sex               0.000000\n",
       "regSalud          0.085842\n",
       "p6426             0.000000\n",
       "p7090             0.000000\n",
       "p7510s7a1         0.000000\n",
       "impa              0.000000\n",
       "isa               0.000000\n",
       "impaes            0.000000\n",
       "isaes             0.000000\n",
       "relab             0.000000\n",
       "impacomp          0.014992\n",
       "isacomp           0.001874\n",
       "dtype: float64"
      ]
     },
     "execution_count": 3,
     "metadata": {},
     "output_type": "execute_result"
    }
   ],
   "source": [
    "#Reassining variables codification:\n",
    "dfsi[\"impa\"].replace(0, 1, inplace=True)\n",
    "dfsi[\"impa\"].replace(np.nan, 0, inplace=True)\n",
    "dfsi[\"impaes\"].replace(0, 1, inplace=True)\n",
    "dfsi[\"impaes\"].replace(np.nan, 0, inplace=True)\n",
    "dfsi[\"isa\"].replace(0, 1, inplace=True)\n",
    "dfsi[\"isa\"].replace(np.nan, 0, inplace=True)\n",
    "dfsi[\"isaes\"].replace(0, 1, inplace=True)\n",
    "dfsi[\"isaes\"].replace(np.nan, 0, inplace=True)\n",
    "\n",
    "#Create compiled variables:\n",
    "dfsi[\"impacomp\"]=dfsi[\"impa\"]+dfsi[\"impaes\"]\n",
    "dfsi[\"isacomp\"]=dfsi[\"isa\"]+dfsi[\"isaes\"]\n",
    "\n",
    "#Recover missing values: \n",
    "dfsi['impacomp']=dfsi['impacomp'].replace(0,np.nan)\n",
    "dfsi['isacomp']=dfsi['isacomp'].replace(0,np.nan)\n",
    "dfsi['impacomp']=dfsi['impacomp'].replace(1, 0)\n",
    "dfsi['isacomp']=dfsi['isacomp'].replace(1, 0)\n",
    "dfsi['impacomp']=dfsi['impacomp'].replace(2, 0)\n",
    "dfsi['isacomp']=dfsi['isacomp'].replace(2, 0)\n",
    "\n",
    "#Missing values count/share. \n",
    "dfsi.isnull().sum() \n",
    "dfsi.isnull().sum()/len(dfsi) "
   ]
  },
  {
   "cell_type": "code",
   "execution_count": 4,
   "metadata": {},
   "outputs": [],
   "source": [
    "#Imputing missing values:\n",
    "imputer=KNNImputer(n_neighbors=19) \n",
    "imputer.fit(dfsi)\n",
    "dfi=pd.DataFrame(imputer.transform(dfsi))\n",
    "dict=({0: \"age\", 1: \"maxEducLevel\", 2: \"sizeFirm\", 3: \"oficio\", 4: \"hoursWorkUsual\", 5: \"formal\", 6: \"ingtot\", 7: \"mes\", 8: \"estrato1\", \n",
    "9: \"sex\", 10: \"regSalud\", 11: \"p6426\", 12: \"p7090\", 13: \"p7510s7a1\", 14: \"impa\", 15: \"isa\", 16: \"impaes\", 17: \"isaes\", 18: \"relab\", \n",
    "19: \"impacomp\", 20: \"isacomp\"})\n",
    "dfi.rename(columns=dict, inplace=True)"
   ]
  },
  {
   "cell_type": "code",
   "execution_count": 5,
   "metadata": {},
   "outputs": [],
   "source": [
    "#Convert categorical variables to dummy variables:\n",
    "oficio_d=pd.get_dummies(dfi[\"oficio\"], prefix=\"oficio\") \n",
    "sizeFirm_d=pd.get_dummies(dfi[\"sizeFirm\"], prefix=\"size\") \n",
    "estrato1_d=pd.get_dummies(dfi[\"estrato1\"], prefix=\"estrato\") \n",
    "regSalud_d=pd.get_dummies(dfi[\"regSalud\"], prefix=\"regs\") \n",
    "maxeduc_d=pd.get_dummies(dfi[\"maxEducLevel\"], prefix=\"educ\") \n",
    "relab_d=pd.get_dummies(dfi[\"relab\"], prefix=\"relab\") \n",
    "\n",
    "#Merge dummy's variables data frame with master data frame:\n",
    "dfi=pd.merge(dfi, oficio_d, left_index=True, right_index=True) \n",
    "dfi=pd.merge(dfi, sizeFirm_d, left_index=True, right_index=True)\n",
    "dfi=pd.merge(dfi, estrato1_d, left_index=True, right_index=True)\n",
    "dfi=pd.merge(dfi, regSalud_d, left_index=True, right_index=True)\n",
    "dfi=pd.merge(dfi, maxeduc_d, left_index=True, right_index=True)\n",
    "dfi=pd.merge(dfi, relab_d, left_index=True, right_index=True)\n",
    "dfi[\"p7090\"]=np.where(dfi[\"p7090\"]==2, 0, 1)"
   ]
  },
  {
   "cell_type": "code",
   "execution_count": 6,
   "metadata": {},
   "outputs": [
    {
     "name": "stdout",
     "output_type": "stream",
     "text": [
      "\\begin{tabular}{lrrrrrr}\n",
      "\\toprule\n",
      "{} &    count &   mean &    std &   min &   50\\% &    max \\\\\n",
      "\\midrule\n",
      "age            &  16542.0 &  39.44 &  13.48 &  18.0 &  38.0 &   94.0 \\\\\n",
      "hoursWorkUsual &  16542.0 &  47.01 &  15.54 &   1.0 &  48.0 &  130.0 \\\\\n",
      "p6426          &  16542.0 &  63.76 &  89.49 &   0.0 &  24.0 &  720.0 \\\\\n",
      "sex            &  16542.0 &   0.53 &   0.50 &   0.0 &   1.0 &    1.0 \\\\\n",
      "formal         &  16542.0 &   0.59 &   0.49 &   0.0 &   1.0 &    1.0 \\\\\n",
      "p7090          &  16542.0 &   0.10 &   0.30 &   0.0 &   0.0 &    1.0 \\\\\n",
      "estrato\\_1.0    &  16542.0 &   0.11 &   0.31 &   0.0 &   0.0 &    1.0 \\\\\n",
      "estrato\\_2.0    &  16542.0 &   0.42 &   0.49 &   0.0 &   0.0 &    1.0 \\\\\n",
      "estrato\\_3.0    &  16542.0 &   0.36 &   0.48 &   0.0 &   0.0 &    1.0 \\\\\n",
      "estrato\\_4.0    &  16542.0 &   0.07 &   0.25 &   0.0 &   0.0 &    1.0 \\\\\n",
      "estrato\\_5.0    &  16542.0 &   0.02 &   0.14 &   0.0 &   0.0 &    1.0 \\\\\n",
      "estrato\\_6.0    &  16542.0 &   0.03 &   0.16 &   0.0 &   0.0 &    1.0 \\\\\n",
      "regs\\_1.0       &  16542.0 &   0.75 &   0.43 &   0.0 &   1.0 &    1.0 \\\\\n",
      "regs\\_2.0       &  16542.0 &   0.03 &   0.16 &   0.0 &   0.0 &    1.0 \\\\\n",
      "regs\\_3.0       &  16542.0 &   0.14 &   0.35 &   0.0 &   0.0 &    1.0 \\\\\n",
      "educ\\_1.0       &  16542.0 &   0.01 &   0.09 &   0.0 &   0.0 &    1.0 \\\\\n",
      "educ\\_3.0       &  16542.0 &   0.05 &   0.21 &   0.0 &   0.0 &    1.0 \\\\\n",
      "educ\\_4.0       &  16542.0 &   0.09 &   0.29 &   0.0 &   0.0 &    1.0 \\\\\n",
      "educ\\_5.0       &  16542.0 &   0.11 &   0.32 &   0.0 &   0.0 &    1.0 \\\\\n",
      "educ\\_6.0       &  16542.0 &   0.32 &   0.47 &   0.0 &   0.0 &    1.0 \\\\\n",
      "educ\\_7.0       &  16542.0 &   0.42 &   0.49 &   0.0 &   0.0 &    1.0 \\\\\n",
      "\\bottomrule\n",
      "\\end{tabular}\n",
      "\n"
     ]
    },
    {
     "name": "stderr",
     "output_type": "stream",
     "text": [
      "C:\\Users\\ASUS\\AppData\\Local\\Temp\\ipykernel_18912\\2295937556.py:13: FutureWarning: In future versions `DataFrame.to_latex` is expected to utilise the base implementation of `Styler.to_latex` for formatting and rendering. The arguments signature may therefore change. It is recommended instead to use `DataFrame.style.to_latex` which also contains additional functionality.\n",
      "  print(ds.to_latex())\n"
     ]
    }
   ],
   "source": [
    "#Transform categorial atribute variables to numerical variable: \n",
    "dfi[\"hoursWorkUsual\"]=pd.to_numeric(dfi[\"hoursWorkUsual\"])\n",
    "dfi[\"formal\"]=pd.to_numeric(dfi[\"formal\"])\n",
    "dfi[\"p6426\"]=pd.to_numeric(dfi[\"p6426\"])\n",
    "\n",
    "#Descriptive statistics data frame:\n",
    "ds=(dfi[[\"age\", \"hoursWorkUsual\", \"p6426\", \"sex\", \"formal\", \"p7090\", \"estrato_1.0\", \"estrato_2.0\", \"estrato_3.0\", \"estrato_4.0\", \n",
    "\"estrato_5.0\", \"estrato_6.0\", \"regs_1.0\", \"regs_2.0\", \"regs_3.0\", \"educ_1.0\", \"educ_3.0\", \"educ_4.0\", \"educ_5.0\", \n",
    "\"educ_6.0\", \"educ_7.0\"]].describe(include=\"all\"))\n",
    "ds=ds.T\n",
    "ds=ds[[\"count\", \"mean\", \"std\", \"min\", \"50%\", \"max\"]]\n",
    "ds=ds.round(2)\n",
    "print(ds.to_latex())"
   ]
  },
  {
   "cell_type": "code",
   "execution_count": 11,
   "metadata": {},
   "outputs": [
    {
     "data": {
      "text/plain": [
       "const   -932989.101385\n",
       "age      121425.480679\n",
       "age2      -1428.567462\n",
       "dtype: float64"
      ]
     },
     "execution_count": 11,
     "metadata": {},
     "output_type": "execute_result"
    }
   ],
   "source": [
    "#Create dependent variable:\n",
    "dfi[\"earnings\"]=dfi[\"impacomp\"]+dfi[\"isacomp\"]\n",
    "\n",
    "#Winsorize data:\n",
    "sc.stats.mstats.winsorize(dfi[\"earnings\"], limits=[0,0.05], inplace=True)\n",
    "sc.stats.mstats.winsorize(dfi[\"age\"], limits=[0,0.05], inplace=True)\n",
    "\n",
    "#Create cuadratic age variable:\n",
    "dfi[\"age2\"]=dfi[\"age\"]**2\n",
    "\n",
    "#Regresion model:\n",
    "y=dfi[\"earnings\"]\n",
    "x=dfi[[\"age\", \"age2\"]]\n",
    "x=sm.add_constant(x)\n",
    "model1=sm.OLS(y,x)\n",
    "results= model1.fit()\n",
    "results.params"
   ]
  },
  {
   "cell_type": "code",
   "execution_count": 9,
   "metadata": {},
   "outputs": [
    {
     "data": {
      "text/plain": [
       "const     1.488201e+06\n",
       "female   -2.012114e+05\n",
       "dtype: float64"
      ]
     },
     "execution_count": 9,
     "metadata": {},
     "output_type": "execute_result"
    }
   ],
   "source": [
    "#Create female variable:\n",
    "dfi[\"female\"]=np.where(dfi[\"sex\"]==1, 0, 1)\n",
    "\n",
    "#Regresion model:\n",
    "y=dfi[\"earnings\"]\n",
    "x=dfi[\"female\"]\n",
    "x=sm.add_constant(x)\n",
    "model2=sm.OLS(y,x)\n",
    "results= model2.fit()\n",
    "results.params"
   ]
  },
  {
   "cell_type": "code",
   "execution_count": null,
   "metadata": {},
   "outputs": [],
   "source": []
  },
  {
   "cell_type": "code",
   "execution_count": null,
   "metadata": {},
   "outputs": [],
   "source": []
  },
  {
   "cell_type": "code",
   "execution_count": null,
   "metadata": {},
   "outputs": [],
   "source": []
  },
  {
   "cell_type": "code",
   "execution_count": null,
   "metadata": {},
   "outputs": [],
   "source": []
  }
 ],
 "metadata": {
  "kernelspec": {
   "display_name": "Python 3.10.6 64-bit",
   "language": "python",
   "name": "python3"
  },
  "language_info": {
   "codemirror_mode": {
    "name": "ipython",
    "version": 3
   },
   "file_extension": ".py",
   "mimetype": "text/x-python",
   "name": "python",
   "nbconvert_exporter": "python",
   "pygments_lexer": "ipython3",
   "version": "3.10.6"
  },
  "orig_nbformat": 4,
  "vscode": {
   "interpreter": {
    "hash": "27f6fea6f47ae512550f0b8facdbd035a93e1dd89633f7bf2dd00a2502c71d0d"
   }
  }
 },
 "nbformat": 4,
 "nbformat_minor": 2
}
