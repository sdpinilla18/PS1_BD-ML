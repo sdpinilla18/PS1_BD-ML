{
 "cells": [
  {
   "cell_type": "code",
   "execution_count": 2,
   "metadata": {},
   "outputs": [],
   "source": [
    "#Packages:\n",
    "import pandas as pd\n",
    "import numpy as np\n",
    "import pyreadr as pyr\n",
    "import sklearn as sk\n",
    "import scipy as sc\n",
    "from sklearn.linear_model import LinearRegression\n",
    "from sklearn.model_selection import train_test_split\n",
    "import statsmodels.api as sm\n",
    "from sklearn.metrics import mean_squared_error\n",
    "from matplotlib import pyplot as plt\n",
    "import seaborn as sns\n",
    "from bootstrap_stat import bootstrap_stat as bp\n",
    "from scipy.stats import bootstrap\n",
    "from sklearn.impute import KNNImputer"
   ]
  },
  {
   "cell_type": "code",
   "execution_count": 3,
   "metadata": {},
   "outputs": [
    {
     "name": "stdout",
     "output_type": "stream",
     "text": [
      "odict_keys(['df'])\n"
     ]
    }
   ],
   "source": [
    "bd=pyr.read_r(\"C:/Users/hp/OneDrive - Universidad de los Andes/Documentos/Docs/Universidad/2022-2/Big Data/Taller 1/Repo/bdPS1.Rdata\")\n",
    "#Revisar ruta del directorio\n",
    "print(bd.keys()) #Load database.\n",
    "df0=bd[\"df\"]\n",
    "df=df0.drop(df0[df0.age<18].index) #Restrict the data to legal age individuals (age>=18).\n",
    "df=df.drop(df[df.ocu==0].index) #Restrict the data to employed individuals (ocu==1).\n",
    "dfsi=(df[[\"age\", \"maxEducLevel\", \"sizeFirm\", \"oficio\", \"hoursWorkUsual\", \"formal\", \"ingtot\", \"mes\", \"estrato1\", \"sex\", \n",
    "\"regSalud\", \"p6426\", \"p7090\",\"p7510s7a1\", \"impa\", \"isa\", \"impaes\", \"isaes\", \"relab\"]]) #Relevant variables selection. "
   ]
  },
  {
   "cell_type": "code",
   "execution_count": 4,
   "metadata": {},
   "outputs": [
    {
     "name": "stderr",
     "output_type": "stream",
     "text": [
      "C:\\Users\\hp\\AppData\\Local\\Temp\\ipykernel_39148\\2900239718.py:2: SettingWithCopyWarning: \n",
      "A value is trying to be set on a copy of a slice from a DataFrame\n",
      "\n",
      "See the caveats in the documentation: https://pandas.pydata.org/pandas-docs/stable/user_guide/indexing.html#returning-a-view-versus-a-copy\n",
      "  dfsi[\"impa\"].replace(0, 1, inplace=True)\n",
      "C:\\Users\\hp\\AppData\\Local\\Temp\\ipykernel_39148\\2900239718.py:3: SettingWithCopyWarning: \n",
      "A value is trying to be set on a copy of a slice from a DataFrame\n",
      "\n",
      "See the caveats in the documentation: https://pandas.pydata.org/pandas-docs/stable/user_guide/indexing.html#returning-a-view-versus-a-copy\n",
      "  dfsi[\"impa\"].replace(np.nan, 0, inplace=True)\n",
      "C:\\Users\\hp\\AppData\\Local\\Temp\\ipykernel_39148\\2900239718.py:4: SettingWithCopyWarning: \n",
      "A value is trying to be set on a copy of a slice from a DataFrame\n",
      "\n",
      "See the caveats in the documentation: https://pandas.pydata.org/pandas-docs/stable/user_guide/indexing.html#returning-a-view-versus-a-copy\n",
      "  dfsi[\"impaes\"].replace(0, 1, inplace=True)\n",
      "C:\\Users\\hp\\AppData\\Local\\Temp\\ipykernel_39148\\2900239718.py:5: SettingWithCopyWarning: \n",
      "A value is trying to be set on a copy of a slice from a DataFrame\n",
      "\n",
      "See the caveats in the documentation: https://pandas.pydata.org/pandas-docs/stable/user_guide/indexing.html#returning-a-view-versus-a-copy\n",
      "  dfsi[\"impaes\"].replace(np.nan, 0, inplace=True)\n",
      "C:\\Users\\hp\\AppData\\Local\\Temp\\ipykernel_39148\\2900239718.py:6: SettingWithCopyWarning: \n",
      "A value is trying to be set on a copy of a slice from a DataFrame\n",
      "\n",
      "See the caveats in the documentation: https://pandas.pydata.org/pandas-docs/stable/user_guide/indexing.html#returning-a-view-versus-a-copy\n",
      "  dfsi[\"isa\"].replace(0, 1, inplace=True)\n",
      "C:\\Users\\hp\\AppData\\Local\\Temp\\ipykernel_39148\\2900239718.py:7: SettingWithCopyWarning: \n",
      "A value is trying to be set on a copy of a slice from a DataFrame\n",
      "\n",
      "See the caveats in the documentation: https://pandas.pydata.org/pandas-docs/stable/user_guide/indexing.html#returning-a-view-versus-a-copy\n",
      "  dfsi[\"isa\"].replace(np.nan, 0, inplace=True)\n",
      "C:\\Users\\hp\\AppData\\Local\\Temp\\ipykernel_39148\\2900239718.py:8: SettingWithCopyWarning: \n",
      "A value is trying to be set on a copy of a slice from a DataFrame\n",
      "\n",
      "See the caveats in the documentation: https://pandas.pydata.org/pandas-docs/stable/user_guide/indexing.html#returning-a-view-versus-a-copy\n",
      "  dfsi[\"isaes\"].replace(0, 1, inplace=True)\n",
      "C:\\Users\\hp\\AppData\\Local\\Temp\\ipykernel_39148\\2900239718.py:9: SettingWithCopyWarning: \n",
      "A value is trying to be set on a copy of a slice from a DataFrame\n",
      "\n",
      "See the caveats in the documentation: https://pandas.pydata.org/pandas-docs/stable/user_guide/indexing.html#returning-a-view-versus-a-copy\n",
      "  dfsi[\"isaes\"].replace(np.nan, 0, inplace=True)\n",
      "C:\\Users\\hp\\AppData\\Local\\Temp\\ipykernel_39148\\2900239718.py:12: SettingWithCopyWarning: \n",
      "A value is trying to be set on a copy of a slice from a DataFrame.\n",
      "Try using .loc[row_indexer,col_indexer] = value instead\n",
      "\n",
      "See the caveats in the documentation: https://pandas.pydata.org/pandas-docs/stable/user_guide/indexing.html#returning-a-view-versus-a-copy\n",
      "  dfsi[\"impacomp\"]=dfsi[\"impa\"]+dfsi[\"impaes\"]\n",
      "C:\\Users\\hp\\AppData\\Local\\Temp\\ipykernel_39148\\2900239718.py:13: SettingWithCopyWarning: \n",
      "A value is trying to be set on a copy of a slice from a DataFrame.\n",
      "Try using .loc[row_indexer,col_indexer] = value instead\n",
      "\n",
      "See the caveats in the documentation: https://pandas.pydata.org/pandas-docs/stable/user_guide/indexing.html#returning-a-view-versus-a-copy\n",
      "  dfsi[\"isacomp\"]=dfsi[\"isa\"]+dfsi[\"isaes\"]\n",
      "C:\\Users\\hp\\AppData\\Local\\Temp\\ipykernel_39148\\2900239718.py:16: SettingWithCopyWarning: \n",
      "A value is trying to be set on a copy of a slice from a DataFrame.\n",
      "Try using .loc[row_indexer,col_indexer] = value instead\n",
      "\n",
      "See the caveats in the documentation: https://pandas.pydata.org/pandas-docs/stable/user_guide/indexing.html#returning-a-view-versus-a-copy\n",
      "  dfsi['impacomp']=dfsi['impacomp'].replace(0,np.nan)\n",
      "C:\\Users\\hp\\AppData\\Local\\Temp\\ipykernel_39148\\2900239718.py:17: SettingWithCopyWarning: \n",
      "A value is trying to be set on a copy of a slice from a DataFrame.\n",
      "Try using .loc[row_indexer,col_indexer] = value instead\n",
      "\n",
      "See the caveats in the documentation: https://pandas.pydata.org/pandas-docs/stable/user_guide/indexing.html#returning-a-view-versus-a-copy\n",
      "  dfsi['isacomp']=dfsi['isacomp'].replace(0,np.nan)\n",
      "C:\\Users\\hp\\AppData\\Local\\Temp\\ipykernel_39148\\2900239718.py:18: SettingWithCopyWarning: \n",
      "A value is trying to be set on a copy of a slice from a DataFrame.\n",
      "Try using .loc[row_indexer,col_indexer] = value instead\n",
      "\n",
      "See the caveats in the documentation: https://pandas.pydata.org/pandas-docs/stable/user_guide/indexing.html#returning-a-view-versus-a-copy\n",
      "  dfsi['impacomp']=dfsi['impacomp'].replace(1, 0)\n",
      "C:\\Users\\hp\\AppData\\Local\\Temp\\ipykernel_39148\\2900239718.py:19: SettingWithCopyWarning: \n",
      "A value is trying to be set on a copy of a slice from a DataFrame.\n",
      "Try using .loc[row_indexer,col_indexer] = value instead\n",
      "\n",
      "See the caveats in the documentation: https://pandas.pydata.org/pandas-docs/stable/user_guide/indexing.html#returning-a-view-versus-a-copy\n",
      "  dfsi['isacomp']=dfsi['isacomp'].replace(1, 0)\n",
      "C:\\Users\\hp\\AppData\\Local\\Temp\\ipykernel_39148\\2900239718.py:20: SettingWithCopyWarning: \n",
      "A value is trying to be set on a copy of a slice from a DataFrame.\n",
      "Try using .loc[row_indexer,col_indexer] = value instead\n",
      "\n",
      "See the caveats in the documentation: https://pandas.pydata.org/pandas-docs/stable/user_guide/indexing.html#returning-a-view-versus-a-copy\n",
      "  dfsi['impacomp']=dfsi['impacomp'].replace(2, 0)\n",
      "C:\\Users\\hp\\AppData\\Local\\Temp\\ipykernel_39148\\2900239718.py:21: SettingWithCopyWarning: \n",
      "A value is trying to be set on a copy of a slice from a DataFrame.\n",
      "Try using .loc[row_indexer,col_indexer] = value instead\n",
      "\n",
      "See the caveats in the documentation: https://pandas.pydata.org/pandas-docs/stable/user_guide/indexing.html#returning-a-view-versus-a-copy\n",
      "  dfsi['isacomp']=dfsi['isacomp'].replace(2, 0)\n"
     ]
    },
    {
     "data": {
      "text/plain": [
       "age               0.000000\n",
       "maxEducLevel      0.000060\n",
       "sizeFirm          0.000000\n",
       "oficio            0.000000\n",
       "hoursWorkUsual    0.000000\n",
       "formal            0.000000\n",
       "ingtot            0.000000\n",
       "mes               0.000000\n",
       "estrato1          0.000000\n",
       "sex               0.000000\n",
       "regSalud          0.085842\n",
       "p6426             0.000000\n",
       "p7090             0.000000\n",
       "p7510s7a1         0.000000\n",
       "impa              0.000000\n",
       "isa               0.000000\n",
       "impaes            0.000000\n",
       "isaes             0.000000\n",
       "relab             0.000000\n",
       "impacomp          0.014992\n",
       "isacomp           0.001874\n",
       "dtype: float64"
      ]
     },
     "execution_count": 4,
     "metadata": {},
     "output_type": "execute_result"
    }
   ],
   "source": [
    "#Reassining variables codification:\n",
    "dfsi[\"impa\"].replace(0, 1, inplace=True)\n",
    "dfsi[\"impa\"].replace(np.nan, 0, inplace=True)\n",
    "dfsi[\"impaes\"].replace(0, 1, inplace=True)\n",
    "dfsi[\"impaes\"].replace(np.nan, 0, inplace=True)\n",
    "dfsi[\"isa\"].replace(0, 1, inplace=True)\n",
    "dfsi[\"isa\"].replace(np.nan, 0, inplace=True)\n",
    "dfsi[\"isaes\"].replace(0, 1, inplace=True)\n",
    "dfsi[\"isaes\"].replace(np.nan, 0, inplace=True)\n",
    "\n",
    "#Create compiled variables:\n",
    "dfsi[\"impacomp\"]=dfsi[\"impa\"]+dfsi[\"impaes\"]\n",
    "dfsi[\"isacomp\"]=dfsi[\"isa\"]+dfsi[\"isaes\"]\n",
    "\n",
    "#Recover missing values: \n",
    "dfsi['impacomp']=dfsi['impacomp'].replace(0,np.nan)\n",
    "dfsi['isacomp']=dfsi['isacomp'].replace(0,np.nan)\n",
    "dfsi['impacomp']=dfsi['impacomp'].replace(1, 0)\n",
    "dfsi['isacomp']=dfsi['isacomp'].replace(1, 0)\n",
    "dfsi['impacomp']=dfsi['impacomp'].replace(2, 0)\n",
    "dfsi['isacomp']=dfsi['isacomp'].replace(2, 0)\n",
    "\n",
    "#Missing values count/share. \n",
    "dfsi.isnull().sum() \n",
    "dfsi.isnull().sum()/len(dfsi) "
   ]
  },
  {
   "cell_type": "code",
   "execution_count": 5,
   "metadata": {},
   "outputs": [],
   "source": [
    "#Imputing missing values:\n",
    "imputer=KNNImputer(n_neighbors=19) \n",
    "imputer.fit(dfsi)\n",
    "dfi=pd.DataFrame(imputer.transform(dfsi))\n",
    "dict=({0: \"age\", 1: \"maxEducLevel\", 2: \"sizeFirm\", 3: \"oficio\", 4: \"hoursWorkUsual\", 5: \"formal\", 6: \"ingtot\", 7: \"mes\", 8: \"estrato1\", \n",
    "9: \"sex\", 10: \"regSalud\", 11: \"p6426\", 12: \"p7090\", 13: \"p7510s7a1\", 14: \"impa\", 15: \"isa\", 16: \"impaes\", 17: \"isaes\", 18: \"relab\", \n",
    "19: \"impacomp\", 20: \"isacomp\"})\n",
    "dfi.rename(columns=dict, inplace=True)"
   ]
  },
  {
   "cell_type": "code",
   "execution_count": 6,
   "metadata": {},
   "outputs": [],
   "source": [
    "#Convert categorical variables to dummy variables:\n",
    "oficio_d=pd.get_dummies(dfi[\"oficio\"], prefix=\"oficio\") \n",
    "sizeFirm_d=pd.get_dummies(dfi[\"sizeFirm\"], prefix=\"size\") \n",
    "estrato1_d=pd.get_dummies(dfi[\"estrato1\"], prefix=\"estrato\") \n",
    "regSalud_d=pd.get_dummies(dfi[\"regSalud\"], prefix=\"regs\") \n",
    "maxeduc_d=pd.get_dummies(dfi[\"maxEducLevel\"], prefix=\"educ\") \n",
    "relab_d=pd.get_dummies(dfi[\"relab\"], prefix=\"relab\") \n",
    "relab_d=pd.get_dummies(dfi[\"relab\"], prefix=\"relab\") \n",
    "mes_d=pd.get_dummies(dfi[\"mes\"], prefix=\"mes\")\n",
    "\n",
    "#Merge dummy's variables data frame with master data frame:\n",
    "dfi=pd.merge(dfi, oficio_d, left_index=True, right_index=True) \n",
    "dfi=pd.merge(dfi, sizeFirm_d, left_index=True, right_index=True)\n",
    "dfi=pd.merge(dfi, estrato1_d, left_index=True, right_index=True)\n",
    "dfi=pd.merge(dfi, regSalud_d, left_index=True, right_index=True)\n",
    "dfi=pd.merge(dfi, maxeduc_d, left_index=True, right_index=True)\n",
    "dfi=pd.merge(dfi, relab_d, left_index=True, right_index=True)\n",
    "dfi=pd.merge(dfi, mes_d, left_index=True, right_index=True)\n",
    "dfi[\"p7090\"]=np.where(dfi[\"p7090\"]==2, 0, 1)"
   ]
  },
  {
   "cell_type": "code",
   "execution_count": 7,
   "metadata": {},
   "outputs": [
    {
     "name": "stdout",
     "output_type": "stream",
     "text": [
      "\\begin{tabular}{lrrrrrr}\n",
      "\\toprule\n",
      "{} &    count &   mean &    std &   min &   50\\% &    max \\\\\n",
      "\\midrule\n",
      "age            &  16542.0 &  39.44 &  13.48 &  18.0 &  38.0 &   94.0 \\\\\n",
      "hoursWorkUsual &  16542.0 &  47.01 &  15.54 &   1.0 &  48.0 &  130.0 \\\\\n",
      "p6426          &  16542.0 &  63.76 &  89.49 &   0.0 &  24.0 &  720.0 \\\\\n",
      "sex            &  16542.0 &   0.53 &   0.50 &   0.0 &   1.0 &    1.0 \\\\\n",
      "formal         &  16542.0 &   0.59 &   0.49 &   0.0 &   1.0 &    1.0 \\\\\n",
      "p7090          &  16542.0 &   0.10 &   0.30 &   0.0 &   0.0 &    1.0 \\\\\n",
      "estrato\\_1.0    &  16542.0 &   0.11 &   0.31 &   0.0 &   0.0 &    1.0 \\\\\n",
      "estrato\\_2.0    &  16542.0 &   0.42 &   0.49 &   0.0 &   0.0 &    1.0 \\\\\n",
      "estrato\\_3.0    &  16542.0 &   0.36 &   0.48 &   0.0 &   0.0 &    1.0 \\\\\n",
      "estrato\\_4.0    &  16542.0 &   0.07 &   0.25 &   0.0 &   0.0 &    1.0 \\\\\n",
      "estrato\\_5.0    &  16542.0 &   0.02 &   0.14 &   0.0 &   0.0 &    1.0 \\\\\n",
      "estrato\\_6.0    &  16542.0 &   0.03 &   0.16 &   0.0 &   0.0 &    1.0 \\\\\n",
      "regs\\_1.0       &  16542.0 &   0.75 &   0.43 &   0.0 &   1.0 &    1.0 \\\\\n",
      "regs\\_2.0       &  16542.0 &   0.03 &   0.16 &   0.0 &   0.0 &    1.0 \\\\\n",
      "regs\\_3.0       &  16542.0 &   0.14 &   0.35 &   0.0 &   0.0 &    1.0 \\\\\n",
      "educ\\_1.0       &  16542.0 &   0.01 &   0.09 &   0.0 &   0.0 &    1.0 \\\\\n",
      "educ\\_3.0       &  16542.0 &   0.05 &   0.21 &   0.0 &   0.0 &    1.0 \\\\\n",
      "educ\\_4.0       &  16542.0 &   0.09 &   0.29 &   0.0 &   0.0 &    1.0 \\\\\n",
      "educ\\_5.0       &  16542.0 &   0.11 &   0.32 &   0.0 &   0.0 &    1.0 \\\\\n",
      "educ\\_6.0       &  16542.0 &   0.32 &   0.47 &   0.0 &   0.0 &    1.0 \\\\\n",
      "educ\\_7.0       &  16542.0 &   0.42 &   0.49 &   0.0 &   0.0 &    1.0 \\\\\n",
      "\\bottomrule\n",
      "\\end{tabular}\n",
      "\n"
     ]
    },
    {
     "name": "stderr",
     "output_type": "stream",
     "text": [
      "C:\\Users\\hp\\AppData\\Local\\Temp\\ipykernel_39148\\2295937556.py:13: FutureWarning: In future versions `DataFrame.to_latex` is expected to utilise the base implementation of `Styler.to_latex` for formatting and rendering. The arguments signature may therefore change. It is recommended instead to use `DataFrame.style.to_latex` which also contains additional functionality.\n",
      "  print(ds.to_latex())\n"
     ]
    }
   ],
   "source": [
    "#Transform categorial atribute variables to numerical variable: \n",
    "dfi[\"hoursWorkUsual\"]=pd.to_numeric(dfi[\"hoursWorkUsual\"])\n",
    "dfi[\"formal\"]=pd.to_numeric(dfi[\"formal\"])\n",
    "dfi[\"p6426\"]=pd.to_numeric(dfi[\"p6426\"])\n",
    "\n",
    "#Descriptive statistics data frame:\n",
    "ds=(dfi[[\"age\", \"hoursWorkUsual\", \"p6426\", \"sex\", \"formal\", \"p7090\", \"estrato_1.0\", \"estrato_2.0\", \"estrato_3.0\", \"estrato_4.0\", \n",
    "\"estrato_5.0\", \"estrato_6.0\", \"regs_1.0\", \"regs_2.0\", \"regs_3.0\", \"educ_1.0\", \"educ_3.0\", \"educ_4.0\", \"educ_5.0\", \n",
    "\"educ_6.0\", \"educ_7.0\"]].describe(include=\"all\"))\n",
    "ds=ds.T\n",
    "ds=ds[[\"count\", \"mean\", \"std\", \"min\", \"50%\", \"max\"]]\n",
    "ds=ds.round(2)\n",
    "print(ds.to_latex())"
   ]
  },
  {
   "cell_type": "code",
   "execution_count": 8,
   "metadata": {},
   "outputs": [
    {
     "data": {
      "text/plain": [
       "count    1.654200e+04\n",
       "mean     1.608618e+06\n",
       "std      2.346376e+06\n",
       "min      0.000000e+00\n",
       "25%      7.812420e+05\n",
       "50%      9.913334e+05\n",
       "75%      1.566667e+06\n",
       "max      5.250000e+07\n",
       "Name: earnings, dtype: float64"
      ]
     },
     "execution_count": 8,
     "metadata": {},
     "output_type": "execute_result"
    }
   ],
   "source": [
    "#Create dependent variable:\n",
    "dfi[\"earnings\"]=dfi[\"impacomp\"]+dfi[\"isacomp\"]\n",
    "dfi[\"earnings\"].describe()"
   ]
  },
  {
   "cell_type": "code",
   "execution_count": 9,
   "metadata": {},
   "outputs": [
    {
     "name": "stdout",
     "output_type": "stream",
     "text": [
      "                            OLS Regression Results                            \n",
      "==============================================================================\n",
      "Dep. Variable:               earnings   R-squared:                       0.036\n",
      "Model:                            OLS   Adj. R-squared:                  0.036\n",
      "Method:                 Least Squares   F-statistic:                     310.2\n",
      "Date:                Mon, 05 Sep 2022   Prob (F-statistic):          5.83e-133\n",
      "Time:                        16:12:02   Log-Likelihood:            -2.5469e+05\n",
      "No. Observations:               16542   AIC:                         5.094e+05\n",
      "Df Residuals:                   16539   BIC:                         5.094e+05\n",
      "Df Model:                           2                                         \n",
      "Covariance Type:            nonrobust                                         \n",
      "==============================================================================\n",
      "                 coef    std err          t      P>|t|      [0.025      0.975]\n",
      "------------------------------------------------------------------------------\n",
      "const       -9.33e+05    9.4e+04     -9.928      0.000   -1.12e+06   -7.49e+05\n",
      "age         1.214e+05   4903.832     24.761      0.000    1.12e+05    1.31e+05\n",
      "age2       -1428.5675     59.243    -24.114      0.000   -1544.689   -1312.446\n",
      "==============================================================================\n",
      "Omnibus:                     5064.304   Durbin-Watson:                   1.559\n",
      "Prob(Omnibus):                  0.000   Jarque-Bera (JB):            12497.573\n",
      "Skew:                           1.718   Prob(JB):                         0.00\n",
      "Kurtosis:                       5.514   Cond. No.                     2.07e+04\n",
      "==============================================================================\n",
      "\n",
      "Notes:\n",
      "[1] Standard Errors assume that the covariance matrix of the errors is correctly specified.\n",
      "[2] The condition number is large, 2.07e+04. This might indicate that there are\n",
      "strong multicollinearity or other numerical problems.\n",
      "1176051.278679825\n"
     ]
    }
   ],
   "source": [
    "#Winsorize data:\n",
    "sc.stats.mstats.winsorize(dfi[\"earnings\"], limits=[0,0.05], inplace=True)\n",
    "sc.stats.mstats.winsorize(dfi[\"age\"], limits=[0,0.05], inplace=True)\n",
    "\n",
    "#Create cuadratic age variable:\n",
    "dfi[\"age2\"]=dfi[\"age\"]**2\n",
    "\n",
    "#OLS regresion model:\n",
    "y=dfi[\"earnings\"]\n",
    "x=dfi[[\"age\", \"age2\"]]\n",
    "x=sm.add_constant(x)\n",
    "model1=sm.OLS(y,x)\n",
    "results=model1.fit()\n",
    "yhatp1=results.predict()\n",
    "b1=results.params[1]\n",
    "b2=results.params[2]\n",
    "elasticidad=-b1/2*b2\n",
    "print(results.summary())\n",
    "print(np.sqrt(results.mse_resid))"
   ]
  },
  {
   "cell_type": "code",
   "execution_count": 10,
   "metadata": {},
   "outputs": [],
   "source": [
    "#Bootstrap \n",
    "seboot=[0]*3\n",
    "for j in range(0,3):\n",
    "    def estimador(dfi):\n",
    "        y=dfi[\"earnings\"]\n",
    "        x=dfi[[\"age\", \"age2\"]]\n",
    "        x=sm.add_constant(x)\n",
    "        model1=sm.OLS(y,x)\n",
    "        results= model1.fit()\n",
    "        return results.params[j]\n",
    "\n",
    "    dist = bp.EmpiricalDistribution(dfi)\n",
    "    sea=bp.standard_error(dist, estimador, B=5)\n",
    "    seboot[j]=sea"
   ]
  },
  {
   "cell_type": "code",
   "execution_count": 11,
   "metadata": {},
   "outputs": [],
   "source": [
    "b0=results.params[0]\n",
    "b1=results.params[1]\n",
    "b2=results.params[2]\n",
    "\n",
    "b0low=b0-seboot[0]*1.96\n",
    "b1low=b1-seboot[1]*1.96\n",
    "b2low=b2-seboot[2]*1.96\n",
    "\n",
    "b0upper=b0+seboot[0]*1.96\n",
    "b1upper=b1+seboot[1]*1.96\n",
    "b2upper=b2+seboot[2]*1.96\n",
    "\n",
    "yhatlow=b0low+b1low*dfi['age']+b2low*dfi['age2']\n",
    "yhatupper=b0upper+b1upper*dfi['age']+b2upper*dfi['age2']\n"
   ]
  },
  {
   "cell_type": "code",
   "execution_count": 12,
   "metadata": {},
   "outputs": [
    {
     "data": {
      "text/plain": [
       "[-984109.1096233645, 117824.9944949008, -1484.9506961175725]"
      ]
     },
     "execution_count": 12,
     "metadata": {},
     "output_type": "execute_result"
    }
   ],
   "source": [
    "betalow = [b0low,b1low, b2low]\n",
    "betalow"
   ]
  },
  {
   "cell_type": "code",
   "execution_count": 13,
   "metadata": {},
   "outputs": [
    {
     "data": {
      "text/plain": [
       "[-881869.0931461953, 125025.96686252329, -1372.1842282750663]"
      ]
     },
     "execution_count": 13,
     "metadata": {},
     "output_type": "execute_result"
    }
   ],
   "source": [
    "betaupper = [b0upper,b1upper, b2upper]\n",
    "betaupper"
   ]
  },
  {
   "cell_type": "code",
   "execution_count": 43,
   "metadata": {},
   "outputs": [
    {
     "ename": "AttributeError",
     "evalue": "module 'matplotlib.pyplot' has no attribute 'use'",
     "output_type": "error",
     "traceback": [
      "\u001b[1;31m---------------------------------------------------------------------------\u001b[0m",
      "\u001b[1;31mAttributeError\u001b[0m                            Traceback (most recent call last)",
      "\u001b[1;32mc:\\Users\\hp\\OneDrive - Universidad de los Andes\\Documentos\\Docs\\Universidad\\2022-2\\Big Data\\Taller 1\\Repo\\Test_code.ipynb Celda 13\u001b[0m in \u001b[0;36m<module>\u001b[1;34m\u001b[0m\n\u001b[0;32m     <a href='vscode-notebook-cell:/c%3A/Users/hp/OneDrive%20-%20Universidad%20de%20los%20Andes/Documentos/Docs/Universidad/2022-2/Big%20Data/Taller%201/Repo/Test_code.ipynb#X36sZmlsZQ%3D%3D?line=10'>11</a>\u001b[0m plot_data1\u001b[39m=\u001b[39mpd\u001b[39m.\u001b[39mconcat([x_f1,y_f1,z_f1,w_f1], axis\u001b[39m=\u001b[39m\u001b[39m1\u001b[39m, join\u001b[39m=\u001b[39m\u001b[39m\"\u001b[39m\u001b[39minner\u001b[39m\u001b[39m\"\u001b[39m)\n\u001b[0;32m     <a href='vscode-notebook-cell:/c%3A/Users/hp/OneDrive%20-%20Universidad%20de%20los%20Andes/Documentos/Docs/Universidad/2022-2/Big%20Data/Taller%201/Repo/Test_code.ipynb#X36sZmlsZQ%3D%3D?line=11'>12</a>\u001b[0m plot_data1\n\u001b[1;32m---> <a href='vscode-notebook-cell:/c%3A/Users/hp/OneDrive%20-%20Universidad%20de%20los%20Andes/Documentos/Docs/Universidad/2022-2/Big%20Data/Taller%201/Repo/Test_code.ipynb#X36sZmlsZQ%3D%3D?line=13'>14</a>\u001b[0m plt\u001b[39m.\u001b[39;49muse(\u001b[39m\"\u001b[39m\u001b[39mpgf\u001b[39m\u001b[39m\"\u001b[39m)\n\u001b[0;32m     <a href='vscode-notebook-cell:/c%3A/Users/hp/OneDrive%20-%20Universidad%20de%20los%20Andes/Documentos/Docs/Universidad/2022-2/Big%20Data/Taller%201/Repo/Test_code.ipynb#X36sZmlsZQ%3D%3D?line=14'>15</a>\u001b[0m plt\u001b[39m.\u001b[39mrcParams\u001b[39m.\u001b[39mupdate({\n\u001b[0;32m     <a href='vscode-notebook-cell:/c%3A/Users/hp/OneDrive%20-%20Universidad%20de%20los%20Andes/Documentos/Docs/Universidad/2022-2/Big%20Data/Taller%201/Repo/Test_code.ipynb#X36sZmlsZQ%3D%3D?line=15'>16</a>\u001b[0m     \u001b[39m\"\u001b[39m\u001b[39mpgf.texsystem\u001b[39m\u001b[39m\"\u001b[39m: \u001b[39m\"\u001b[39m\u001b[39mpdflatex\u001b[39m\u001b[39m\"\u001b[39m,\n\u001b[0;32m     <a href='vscode-notebook-cell:/c%3A/Users/hp/OneDrive%20-%20Universidad%20de%20los%20Andes/Documentos/Docs/Universidad/2022-2/Big%20Data/Taller%201/Repo/Test_code.ipynb#X36sZmlsZQ%3D%3D?line=16'>17</a>\u001b[0m     \u001b[39m'\u001b[39m\u001b[39mfont.family\u001b[39m\u001b[39m'\u001b[39m: \u001b[39m'\u001b[39m\u001b[39mserif\u001b[39m\u001b[39m'\u001b[39m,\n\u001b[0;32m     <a href='vscode-notebook-cell:/c%3A/Users/hp/OneDrive%20-%20Universidad%20de%20los%20Andes/Documentos/Docs/Universidad/2022-2/Big%20Data/Taller%201/Repo/Test_code.ipynb#X36sZmlsZQ%3D%3D?line=17'>18</a>\u001b[0m     \u001b[39m'\u001b[39m\u001b[39mtext.usetex\u001b[39m\u001b[39m'\u001b[39m: \u001b[39mTrue\u001b[39;00m,\n\u001b[0;32m     <a href='vscode-notebook-cell:/c%3A/Users/hp/OneDrive%20-%20Universidad%20de%20los%20Andes/Documentos/Docs/Universidad/2022-2/Big%20Data/Taller%201/Repo/Test_code.ipynb#X36sZmlsZQ%3D%3D?line=18'>19</a>\u001b[0m     \u001b[39m'\u001b[39m\u001b[39mpgf.rcfonts\u001b[39m\u001b[39m'\u001b[39m: \u001b[39mFalse\u001b[39;00m,\n\u001b[0;32m     <a href='vscode-notebook-cell:/c%3A/Users/hp/OneDrive%20-%20Universidad%20de%20los%20Andes/Documentos/Docs/Universidad/2022-2/Big%20Data/Taller%201/Repo/Test_code.ipynb#X36sZmlsZQ%3D%3D?line=19'>20</a>\u001b[0m })\n\u001b[0;32m     <a href='vscode-notebook-cell:/c%3A/Users/hp/OneDrive%20-%20Universidad%20de%20los%20Andes/Documentos/Docs/Universidad/2022-2/Big%20Data/Taller%201/Repo/Test_code.ipynb#X36sZmlsZQ%3D%3D?line=21'>22</a>\u001b[0m fig, ax \u001b[39m=\u001b[39m plt\u001b[39m.\u001b[39msubplots()\n",
      "\u001b[1;31mAttributeError\u001b[0m: module 'matplotlib.pyplot' has no attribute 'use'"
     ]
    }
   ],
   "source": [
    "#Figura 1\n",
    "x_f1=pd.DataFrame(dfi['age'])\n",
    "x_f1[\"Edad\"]=x_f1\n",
    "y_f1=pd.DataFrame(yhatp1)\n",
    "y_f1[\"COP\"]=y_f1\n",
    "z_f1=pd.DataFrame(yhatlow)\n",
    "z_f1[\"3\"]=z_f1\n",
    "w_f1=pd.DataFrame(yhatupper)\n",
    "w_f1[\"4\"]=w_f1\n",
    "\n",
    "plot_data1=pd.concat([x_f1,y_f1,z_f1,w_f1], axis=1, join=\"inner\")\n",
    "plot_data1\n",
    "\n",
    "fig, ax = plt.subplots()\n",
    "ax= sns.lineplot(x='Edad', y='COP', data=plot_data1, label='Ingreso laboral', linewidth=2, color=\"black\")\n",
    "ax2 = sns.lineplot(x='Edad', y='4', data=plot_data1, label='IC banda superior', linewidth=1, color=\"gray\")\n",
    "ax1 = sns.lineplot(x='Edad', y='3', data=plot_data1, label='IC banda inferior', linewidth=1, color=\"gray\")\n"
   ]
  },
  {
   "cell_type": "code",
   "execution_count": null,
   "metadata": {},
   "outputs": [],
   "source": [
    "matplotlib.use(\"pgf\")\n",
    "matplotlib.rcParams.update({\n",
    "    \"pgf.texsystem\": \"pdflatex\",\n",
    "    'font.family': 'serif',\n",
    "    'text.usetex': True,\n",
    "    'pgf.rcfonts': False,\n",
    "})"
   ]
  },
  {
   "cell_type": "code",
   "execution_count": 152,
   "metadata": {},
   "outputs": [],
   "source": [
    "#Bootstrap, Earnings(Age,Age2)\n",
    "def estimador0(dfi):\n",
    "    y=dfi[\"earnings\"]\n",
    "    x=dfi[[\"age\", \"age2\"]]\n",
    "    x=sm.add_constant(x)\n",
    "    model1=sm.OLS(y,x)\n",
    "    results= model1.fit()\n",
    "    return results.params[0]\n",
    "\n",
    "def estimadora(dfi):\n",
    "    y=dfi[\"earnings\"]\n",
    "    x=dfi[[\"age\", \"age2\"]]\n",
    "    x=sm.add_constant(x)\n",
    "    model1=sm.OLS(y,x)\n",
    "    results= model1.fit()\n",
    "    return results.params[1]\n",
    "\n",
    "def estimadora2(dfi):\n",
    "    y=dfi[\"earnings\"]\n",
    "    x=dfi[[\"age\", \"age2\"]]\n",
    "    x=sm.add_constant(x)\n",
    "    model1=sm.OLS(y,x)\n",
    "    results= model1.fit()\n",
    "    return results.params[2]"
   ]
  },
  {
   "cell_type": "code",
   "execution_count": 153,
   "metadata": {},
   "outputs": [],
   "source": [
    "dist = bp.EmpiricalDistribution(dfi)\n",
    "sea=bp.standard_error(dist, estimadora, B=1000)\n",
    "sea2=bp.standard_error(dist, estimadora2, B=1000)\n",
    "secons=bp.standard_error(dist, estimador0, B=1000)"
   ]
  },
  {
   "cell_type": "code",
   "execution_count": 154,
   "metadata": {},
   "outputs": [
    {
     "data": {
      "text/plain": [
       "[81754.00205122671, 4505.646536853562, 56.908574721285056]"
      ]
     },
     "execution_count": 154,
     "metadata": {},
     "output_type": "execute_result"
    }
   ],
   "source": [
    "se=[secons,sea,sea2]\n",
    "se"
   ]
  },
  {
   "cell_type": "code",
   "execution_count": 155,
   "metadata": {},
   "outputs": [],
   "source": [
    "b0=results.params[0]\n",
    "b1=results.params[1]\n",
    "b2=results.params[2]\n",
    "\n",
    "b0low=(b0-secons*1.96)\n",
    "b1low=(b1-sea*1.96)\n",
    "b2low=(b2-sea2*1.96)\n",
    "\n",
    "b0upper=(b0+secons*1.96)\n",
    "b1upper=(b1+sea*1.96)\n",
    "b2upper=(b2+sea2*1.96)\n",
    "\n",
    "yhatlow=b0low+b1low*dfi['age']+b2low*dfi['age2']\n",
    "yhatupper=b0upper+b1upper*dfi['age']+b2upper*dfi['age2']"
   ]
  },
  {
   "cell_type": "code",
   "execution_count": 156,
   "metadata": {},
   "outputs": [
    {
     "name": "stdout",
     "output_type": "stream",
     "text": [
      "                            OLS Regression Results                            \n",
      "==============================================================================\n",
      "Dep. Variable:           log_earnings   R-squared:                       0.019\n",
      "Model:                            OLS   Adj. R-squared:                  0.019\n",
      "Method:                 Least Squares   F-statistic:                     316.0\n",
      "Date:                Sun, 04 Sep 2022   Prob (F-statistic):           4.97e-70\n",
      "Time:                        17:55:33   Log-Likelihood:                -20232.\n",
      "No. Observations:               16266   AIC:                         4.047e+04\n",
      "Df Residuals:                   16264   BIC:                         4.048e+04\n",
      "Df Model:                           1                                         \n",
      "Covariance Type:            nonrobust                                         \n",
      "==============================================================================\n",
      "                 coef    std err          t      P>|t|      [0.025      0.975]\n",
      "------------------------------------------------------------------------------\n",
      "const         13.9577      0.009   1549.028      0.000      13.940      13.975\n",
      "female        -0.2345      0.013    -17.776      0.000      -0.260      -0.209\n",
      "==============================================================================\n",
      "Omnibus:                     1625.843   Durbin-Watson:                   1.668\n",
      "Prob(Omnibus):                  0.000   Jarque-Bera (JB):             3411.201\n",
      "Skew:                          -0.640   Prob(JB):                         0.00\n",
      "Kurtosis:                       4.842   Cond. No.                         2.55\n",
      "==============================================================================\n",
      "\n",
      "Notes:\n",
      "[1] Standard Errors assume that the covariance matrix of the errors is correctly specified.\n",
      "0.839392156200452\n"
     ]
    }
   ],
   "source": [
    "#Create female variable:\n",
    "dfi[\"female\"]=np.where(dfi[\"sex\"]==1, 0, 1)\n",
    "dfi=dfi.drop(dfi[dfi.earnings==0].index)\n",
    "dfi[\"log_earnings\"]=np.log(dfi[\"earnings\"])\n",
    "\n",
    "#Regresion model:\n",
    "y=dfi[\"log_earnings\"]\n",
    "x=dfi[\"female\"]\n",
    "x=sm.add_constant(x)\n",
    "model2=sm.OLS(y,x)\n",
    "results= model2.fit()\n",
    "print(results.summary())\n",
    "print(np.sqrt(results.mse_resid))"
   ]
  },
  {
   "cell_type": "code",
   "execution_count": 157,
   "metadata": {},
   "outputs": [],
   "source": [
    "y_hat=results.predict()\n",
    "from math import e\n",
    "\n",
    "y_hat2=e**(y_hat)"
   ]
  },
  {
   "cell_type": "code",
   "execution_count": 158,
   "metadata": {},
   "outputs": [],
   "source": [
    "E = dfi[\"earnings\"]-y_hat2\n",
    "E2 = E**2\n",
    "MSE=sum(E2)/(len(E2)-2)"
   ]
  },
  {
   "cell_type": "code",
   "execution_count": 159,
   "metadata": {},
   "outputs": [
    {
     "data": {
      "text/plain": [
       "1249025.8306752015"
      ]
     },
     "execution_count": 159,
     "metadata": {},
     "output_type": "execute_result"
    }
   ],
   "source": [
    "np.sqrt(MSE)"
   ]
  },
  {
   "cell_type": "code",
   "execution_count": 160,
   "metadata": {},
   "outputs": [
    {
     "name": "stdout",
     "output_type": "stream",
     "text": [
      "                            OLS Regression Results                            \n",
      "==============================================================================\n",
      "Dep. Variable:           log_earnings   R-squared:                       0.089\n",
      "Model:                            OLS   Adj. R-squared:                  0.089\n",
      "Method:                 Least Squares   F-statistic:                     317.0\n",
      "Date:                Sun, 04 Sep 2022   Prob (F-statistic):               0.00\n",
      "Time:                        17:55:34   Log-Likelihood:                -19632.\n",
      "No. Observations:               16266   AIC:                         3.928e+04\n",
      "Df Residuals:                   16260   BIC:                         3.932e+04\n",
      "Df Model:                           5                                         \n",
      "Covariance Type:            nonrobust                                         \n",
      "===============================================================================\n",
      "                  coef    std err          t      P>|t|      [0.025      0.975]\n",
      "-------------------------------------------------------------------------------\n",
      "const          12.0251      0.089    135.761      0.000      11.851      12.199\n",
      "age             0.1022      0.005     22.116      0.000       0.093       0.111\n",
      "female         -0.0885      0.132     -0.672      0.501      -0.346       0.169\n",
      "female_age      0.0066      0.007      0.967      0.333      -0.007       0.020\n",
      "female_age2    -0.0003   8.31e-05     -3.031      0.002      -0.000   -8.91e-05\n",
      "age2           -0.0012   5.56e-05    -21.821      0.000      -0.001      -0.001\n",
      "==============================================================================\n",
      "Omnibus:                     1374.359   Durbin-Watson:                   1.666\n",
      "Prob(Omnibus):                  0.000   Jarque-Bera (JB):             3012.724\n",
      "Skew:                          -0.542   Prob(JB):                         0.00\n",
      "Kurtosis:                       4.809   Cond. No.                     5.22e+04\n",
      "==============================================================================\n",
      "\n",
      "Notes:\n",
      "[1] Standard Errors assume that the covariance matrix of the errors is correctly specified.\n",
      "[2] The condition number is large, 5.22e+04. This might indicate that there are\n",
      "strong multicollinearity or other numerical problems.\n",
      "0.8090894053000518\n"
     ]
    }
   ],
   "source": [
    "#Create interactions variable:\n",
    "dfi[\"female_age\"]=dfi[\"female\"]*dfi[\"age\"]\n",
    "dfi[\"female_age2\"]=dfi[\"female\"]*dfi[\"age2\"]\n",
    "\n",
    "#OLS regresion model:\n",
    "y=dfi[\"log_earnings\"]\n",
    "x=dfi[[\"age\", \"female\", \"female_age\", \"female_age2\", \"age2\"]]\n",
    "x=sm.add_constant(x)\n",
    "model3=sm.OLS(y,x)\n",
    "results= model3.fit()\n",
    "print(results.summary())\n",
    "print(np.sqrt(results.mse_resid))"
   ]
  },
  {
   "cell_type": "code",
   "execution_count": 161,
   "metadata": {},
   "outputs": [
    {
     "name": "stdout",
     "output_type": "stream",
     "text": [
      "1221026.8513533957\n"
     ]
    }
   ],
   "source": [
    "#rMSE to COP units:\n",
    "y_hat=results.predict()\n",
    "y_hat2=e**(y_hat)\n",
    "E = dfi[\"earnings\"]-y_hat2\n",
    "E2 = E**2\n",
    "MSE=sum(E2)/(len(E2)-6)\n",
    "print(np.sqrt(MSE))"
   ]
  },
  {
   "cell_type": "code",
   "execution_count": null,
   "metadata": {},
   "outputs": [],
   "source": []
  },
  {
   "cell_type": "code",
   "execution_count": 162,
   "metadata": {},
   "outputs": [
    {
     "name": "stdout",
     "output_type": "stream",
     "text": [
      "                            OLS Regression Results                            \n",
      "==============================================================================\n",
      "Dep. Variable:           log_earnings   R-squared:                       0.553\n",
      "Model:                            OLS   Adj. R-squared:                  0.550\n",
      "Method:                 Least Squares   F-statistic:                     182.0\n",
      "Date:                Sun, 04 Sep 2022   Prob (F-statistic):               0.00\n",
      "Time:                        17:55:34   Log-Likelihood:                -13833.\n",
      "No. Observations:               16266   AIC:                         2.789e+04\n",
      "Df Residuals:                   16155   BIC:                         2.874e+04\n",
      "Df Model:                         110                                         \n",
      "Covariance Type:            nonrobust                                         \n",
      "==================================================================================\n",
      "                     coef    std err          t      P>|t|      [0.025      0.975]\n",
      "----------------------------------------------------------------------------------\n",
      "const             10.9610      0.090    121.274      0.000      10.784      11.138\n",
      "female            -0.1665      0.011    -15.367      0.000      -0.188      -0.145\n",
      "age                0.0550      0.002     22.096      0.000       0.050       0.060\n",
      "age2              -0.0006   3.03e-05    -21.234      0.000      -0.001      -0.001\n",
      "sizeFirm           0.0947      0.005     20.016      0.000       0.085       0.104\n",
      "hoursWorkUsual     0.0119      0.000     37.380      0.000       0.011       0.013\n",
      "formal             0.2757      0.013     20.790      0.000       0.250       0.302\n",
      "p6426              0.0010   5.94e-05     17.126      0.000       0.001       0.001\n",
      "educ_3.0           0.2347      0.056      4.155      0.000       0.124       0.345\n",
      "educ_4.0           0.3155      0.055      5.778      0.000       0.208       0.423\n",
      "educ_5.0           0.3688      0.054      6.791      0.000       0.262       0.475\n",
      "educ_6.0           0.4564      0.054      8.508      0.000       0.351       0.562\n",
      "educ_7.0           0.6965      0.054     12.818      0.000       0.590       0.803\n",
      "relab_2.0          0.1834      0.026      7.162      0.000       0.133       0.234\n",
      "relab_3.0          0.3384      0.042      8.114      0.000       0.257       0.420\n",
      "relab_4.0         -0.0554      0.015     -3.784      0.000      -0.084      -0.027\n",
      "relab_5.0          0.3050      0.026     11.650      0.000       0.254       0.356\n",
      "relab_6.0         -1.7733      0.103    -17.173      0.000      -1.976      -1.571\n",
      "relab_7.0         -1.8187      0.139    -13.095      0.000      -2.091      -1.547\n",
      "relab_8.0         -0.2056      0.576     -0.357      0.721      -1.336       0.924\n",
      "relab_9.0         -0.7470      0.191     -3.921      0.000      -1.120      -0.374\n",
      "mes_1.0           -0.0342      0.022     -1.531      0.126      -0.078       0.010\n",
      "mes_2.0           -0.0371      0.022     -1.692      0.091      -0.080       0.006\n",
      "mes_3.0           -0.0462      0.022     -2.127      0.033      -0.089      -0.004\n",
      "mes_4.0           -0.0373      0.022     -1.714      0.086      -0.080       0.005\n",
      "mes_5.0            0.0133      0.022      0.618      0.537      -0.029       0.055\n",
      "mes_6.0            0.0028      0.022      0.130      0.896      -0.040       0.045\n",
      "mes_7.0           -0.0316      0.022     -1.454      0.146      -0.074       0.011\n",
      "mes_9.0            0.0009      0.022      0.041      0.967      -0.041       0.043\n",
      "mes_10.0           0.0171      0.022      0.780      0.435      -0.026       0.060\n",
      "mes_11.0          -0.0076      0.022     -0.342      0.732      -0.051       0.036\n",
      "mes_12.0           0.0040      0.023      0.174      0.862      -0.041       0.049\n",
      "oficio_1.0         0.9547      0.141      6.749      0.000       0.677       1.232\n",
      "oficio_2.0         0.7658      0.063     12.090      0.000       0.642       0.890\n",
      "oficio_3.0         0.2618      0.060      4.365      0.000       0.144       0.379\n",
      "oficio_4.0         1.3507      0.238      5.664      0.000       0.883       1.818\n",
      "oficio_5.0         0.8617      0.114      7.535      0.000       0.638       1.086\n",
      "oficio_6.0         0.9718      0.073     13.356      0.000       0.829       1.114\n",
      "oficio_7.0         0.6472      0.082      7.901      0.000       0.487       0.808\n",
      "oficio_8.0         0.8732      0.069     12.642      0.000       0.738       1.009\n",
      "oficio_9.0         0.9630      0.086     11.135      0.000       0.793       1.132\n",
      "oficio_11.0        0.7749      0.065     11.927      0.000       0.648       0.902\n",
      "oficio_12.0        1.0196      0.066     15.393      0.000       0.890       1.149\n",
      "oficio_13.0        0.5901      0.060      9.759      0.000       0.472       0.709\n",
      "oficio_14.0        0.0060      0.238      0.025      0.980      -0.461       0.473\n",
      "oficio_15.0        0.7570      0.090      8.440      0.000       0.581       0.933\n",
      "oficio_16.0        0.5440      0.072      7.540      0.000       0.403       0.685\n",
      "oficio_17.0        0.4387      0.087      5.042      0.000       0.268       0.609\n",
      "oficio_18.0        0.3444      0.093      3.708      0.000       0.162       0.526\n",
      "oficio_19.0        0.5769      0.067      8.585      0.000       0.445       0.709\n",
      "oficio_20.0        0.4387      0.406      1.080      0.280      -0.358       1.235\n",
      "oficio_21.0        0.8284      0.059     14.086      0.000       0.713       0.944\n",
      "oficio_30.0        0.6568      0.075      8.801      0.000       0.511       0.803\n",
      "oficio_31.0        1.0190      0.158      6.460      0.000       0.710       1.328\n",
      "oficio_32.0        0.2846      0.074      3.826      0.000       0.139       0.430\n",
      "oficio_33.0        0.2831      0.060      4.709      0.000       0.165       0.401\n",
      "oficio_34.0        0.0922      0.089      1.032      0.302      -0.083       0.267\n",
      "oficio_35.0        0.3106      0.188      1.653      0.098      -0.058       0.679\n",
      "oficio_36.0       -0.0180      0.098     -0.182      0.855      -0.211       0.175\n",
      "oficio_37.0        0.0789      0.069      1.148      0.251      -0.056       0.214\n",
      "oficio_38.0        0.1145      0.065      1.757      0.079      -0.013       0.242\n",
      "oficio_39.0        0.2446      0.057      4.274      0.000       0.132       0.357\n",
      "oficio_40.0        0.4453      0.103      4.318      0.000       0.243       0.647\n",
      "oficio_41.0        0.2539      0.058      4.345      0.000       0.139       0.368\n",
      "oficio_42.0        0.5483      0.091      6.003      0.000       0.369       0.727\n",
      "oficio_43.0        0.8166      0.138      5.907      0.000       0.546       1.088\n",
      "oficio_44.0        0.5527      0.065      8.473      0.000       0.425       0.681\n",
      "oficio_45.0        0.1198      0.055      2.160      0.031       0.011       0.228\n",
      "oficio_49.0        0.5833      0.238      2.447      0.014       0.116       1.051\n",
      "oficio_50.0        0.5213      0.108      4.831      0.000       0.310       0.733\n",
      "oficio_51.0        0.3510      0.079      4.465      0.000       0.197       0.505\n",
      "oficio_52.0        0.1110      0.238      0.466      0.641      -0.356       0.578\n",
      "oficio_53.0        0.1973      0.058      3.397      0.001       0.083       0.311\n",
      "oficio_54.0       -0.1197      0.064     -1.860      0.063      -0.246       0.006\n",
      "oficio_55.0        0.1334      0.059      2.270      0.023       0.018       0.249\n",
      "oficio_56.0        0.1072      0.099      1.083      0.279      -0.087       0.301\n",
      "oficio_57.0        0.1187      0.066      1.801      0.072      -0.010       0.248\n",
      "oficio_58.0        0.1489      0.058      2.554      0.011       0.035       0.263\n",
      "oficio_59.0        0.1257      0.061      2.061      0.039       0.006       0.245\n",
      "oficio_60.0        0.7361      0.406      1.814      0.070      -0.059       1.531\n",
      "oficio_61.0        0.2868      0.124      2.309      0.021       0.043       0.530\n",
      "oficio_62.0        0.1924      0.108      1.786      0.074      -0.019       0.404\n",
      "oficio_63.0        0.5195      0.406      1.280      0.200      -0.276       1.315\n",
      "oficio_70.0        0.3712      0.090      4.110      0.000       0.194       0.548\n",
      "oficio_72.0        0.1741      0.208      0.836      0.403      -0.234       0.583\n",
      "oficio_73.0        0.7857      0.406      1.935      0.053      -0.010       1.581\n",
      "oficio_74.0        0.1133      0.173      0.656      0.512      -0.225       0.452\n",
      "oficio_75.0       -0.2542      0.120     -2.113      0.035      -0.490      -0.018\n",
      "oficio_76.0        0.3175      0.333      0.955      0.340      -0.334       0.969\n",
      "oficio_77.0        0.2007      0.068      2.969      0.003       0.068       0.333\n",
      "oficio_78.0       -0.2671      0.571     -0.467      0.640      -1.387       0.853\n",
      "oficio_79.0        0.0980      0.059      1.647      0.099      -0.019       0.215\n",
      "oficio_80.0        0.0380      0.076      0.499      0.617      -0.111       0.187\n",
      "oficio_81.0        0.2350      0.076      3.106      0.002       0.087       0.383\n",
      "oficio_82.0       -0.1382      0.406     -0.340      0.734      -0.934       0.657\n",
      "oficio_83.0        0.2210      0.075      2.946      0.003       0.074       0.368\n",
      "oficio_84.0        0.2718      0.065      4.193      0.000       0.145       0.399\n",
      "oficio_85.0        0.2785      0.068      4.099      0.000       0.145       0.412\n",
      "oficio_86.0        0.4873      0.238      2.044      0.041       0.020       0.955\n",
      "oficio_87.0        0.2504      0.070      3.588      0.000       0.114       0.387\n",
      "oficio_88.0       -0.1081      0.208     -0.519      0.604      -0.517       0.300\n",
      "oficio_89.0        0.2265      0.135      1.676      0.094      -0.038       0.491\n",
      "oficio_90.0        0.1016      0.091      1.111      0.266      -0.078       0.281\n",
      "oficio_91.0        0.1317      0.161      0.817      0.414      -0.184       0.448\n",
      "oficio_92.0        0.2214      0.093      2.381      0.017       0.039       0.404\n",
      "oficio_93.0        0.2077      0.074      2.802      0.005       0.062       0.353\n",
      "oficio_94.0       -0.0603      0.102     -0.589      0.556      -0.261       0.140\n",
      "oficio_95.0        0.3220      0.058      5.536      0.000       0.208       0.436\n",
      "oficio_96.0        0.7693      0.406      1.896      0.058      -0.026       1.565\n",
      "oficio_97.0        0.1001      0.060      1.682      0.093      -0.017       0.217\n",
      "oficio_98.0        0.2333      0.057      4.077      0.000       0.121       0.346\n",
      "==============================================================================\n",
      "Omnibus:                     2215.160   Durbin-Watson:                   1.855\n",
      "Prob(Omnibus):                  0.000   Jarque-Bera (JB):             6846.601\n",
      "Skew:                          -0.712   Prob(JB):                         0.00\n",
      "Kurtosis:                       5.841   Cond. No.                     2.61e+05\n",
      "==============================================================================\n",
      "\n",
      "Notes:\n",
      "[1] Standard Errors assume that the covariance matrix of the errors is correctly specified.\n",
      "[2] The condition number is large, 2.61e+05. This might indicate that there are\n",
      "strong multicollinearity or other numerical problems.\n"
     ]
    }
   ],
   "source": [
    "oficio=[\"oficio_1.0\"]\n",
    "for i in range(2,99):\n",
    "    oficio.append(\"oficio_\"+str(i)+\".0\")\n",
    "    list1=['oficio_10.0', 'oficio_22.0', 'oficio_23.0', 'oficio_24.0', 'oficio_25.0', 'oficio_26.0', 'oficio_27.0', 'oficio_28.0', 'oficio_29.0', 'oficio_46.0', 'oficio_47.0', 'oficio_48.0', 'oficio_64.0', 'oficio_65.0', 'oficio_66.0', 'oficio_67.0', 'oficio_68.0', 'oficio_69.0', 'oficio_71.0']\n",
    "    oficio2=[i for i in oficio if i not in list1]\n",
    "\n",
    "#Long regression\n",
    "#Define exogenous and endogenous variables:\n",
    "y=dfi[\"log_earnings\"]\n",
    "x0=dfi[[\"female\"]]\n",
    "x1=(dfi[[\"age\",\"age2\", \"sizeFirm\", \"hoursWorkUsual\", \"formal\", \"p6426\", \"educ_3.0\", \"educ_4.0\", \n",
    "\"educ_5.0\", \"educ_6.0\", \"educ_7.0\", \"relab_2.0\", \"relab_3.0\" , \"relab_4.0\", \"relab_5.0\", \"relab_6.0\", \n",
    "\"relab_7.0\", \"relab_8.0\" , \"relab_9.0\", \"mes_1.0\", \"mes_2.0\", \"mes_3.0\", \"mes_4.0\", \"mes_5.0\", \"mes_6.0\", \n",
    "\"mes_7.0\", \"mes_9.0\", \"mes_10.0\", \"mes_11.0\", \"mes_12.0\"]])\n",
    "x2=dfi[oficio2]\n",
    "x=pd.concat([x0,x1,x2], axis=1, join=\"inner\")\n",
    "x=sm.add_constant(x)\n",
    "\n",
    "#OLS regresion model:\n",
    "model2=sm.OLS(y,x)\n",
    "results= model2.fit()\n",
    "print(results.summary())"
   ]
  },
  {
   "cell_type": "code",
   "execution_count": 185,
   "metadata": {},
   "outputs": [
    {
     "name": "stdout",
     "output_type": "stream",
     "text": [
      "0.09730905503389506\n",
      "0.0032444138877103412\n",
      "4.0672034325216646e-05\n",
      "0.005409740794449886\n",
      "6.179930491189999e-05\n"
     ]
    }
   ],
   "source": [
    "se_boot = []\n",
    "for koef in range(0,5):\n",
    "\n",
    "    def estm(dfi):\n",
    "\n",
    "        #FWL theorem\n",
    "        #Define exog and endog variables\n",
    "        oficio=[\"oficio_1.0\"]\n",
    "        for i in range(2,99):\n",
    "            oficio.append(\"oficio_\"+str(i)+\".0\")\n",
    "            list1=['oficio_10.0', 'oficio_22.0', 'oficio_23.0', 'oficio_24.0', 'oficio_25.0', 'oficio_26.0', 'oficio_27.0', 'oficio_28.0', 'oficio_29.0', 'oficio_46.0', 'oficio_47.0', 'oficio_48.0', 'oficio_64.0', 'oficio_65.0', 'oficio_66.0', 'oficio_67.0', 'oficio_68.0', 'oficio_69.0', 'oficio_71.0']\n",
    "            oficio2=[i for i in oficio if i not in list1]\n",
    "\n",
    "        y=dfi[\"log_earnings\"]\n",
    "        x0=dfi[['female', \"age\", \"age2\", \"female_age\", \"female_age2\"]]\n",
    "        x1=dfi[[\"sizeFirm\", \"hoursWorkUsual\",\"formal\", \"p6426\",\"educ_3.0\", \"educ_4.0\", \n",
    "            \"educ_5.0\", \"educ_6.0\", \"educ_7.0\", \"relab_2.0\", \"relab_3.0\" , \"relab_4.0\",\"relab_5.0\" , \"relab_6.0\" , \"relab_7.0\" , \"relab_8.0\" , \"relab_9.0\",\n",
    "            \"mes_1.0\", \"mes_2.0\", \"mes_3.0\", \"mes_4.0\", \"mes_5.0\", \"mes_6.0\", \"mes_7.0\",\"mes_9.0\", \"mes_10.0\", \"mes_11.0\", \"mes_12.0\"]]\n",
    "        x2=dfi[oficio2]\n",
    "        x_f = pd.concat([x1,x2], axis=1, join=\"inner\")\n",
    "        x_f=sm.add_constant(x_f)\n",
    "        x0=sm.add_constant(x0)\n",
    "\n",
    "        #Residuals of log_earnings regressed on controls\n",
    "        model3=sm.OLS(y,x_f)\n",
    "        results_f= model3.fit()\n",
    "        resid_a=results_f.resid\n",
    "\n",
    "        #residuals of female regressed on controls\n",
    "        model4=sm.OLS(x0, x_f)\n",
    "        results_f2= model4.fit()\n",
    "        resid_b=results_f2.resid\n",
    "\n",
    "        #Delete constant from residuals b\n",
    "        resid_b=resid_b.drop(['const'], axis=1)\n",
    "\n",
    "        #Results of resid_a  regressed on resid_b\n",
    "        model_FWL=sm.OLS(resid_a,resid_b)\n",
    "        results_FWL=model_FWL.fit()\n",
    "\n",
    "        return results_FWL.params[koef]\n",
    "\n",
    "    dist = bp.EmpiricalDistribution(dfi)\n",
    "    se_koef=bp.standard_error(dist,estm, B=1000)\n",
    "    se_boot = se_boot + [str(se_koef)]\n",
    "    print(se_koef)"
   ]
  },
  {
   "cell_type": "code",
   "execution_count": 178,
   "metadata": {},
   "outputs": [
    {
     "data": {
      "text/plain": [
       "dtype('float64')"
      ]
     },
     "execution_count": 178,
     "metadata": {},
     "output_type": "execute_result"
    }
   ],
   "source": [
    "se_boot\n",
    "# Revisar orden female vs age"
   ]
  }
 ],
 "metadata": {
  "kernelspec": {
   "display_name": "Python 3.9.5 ('base')",
   "language": "python",
   "name": "python3"
  },
  "language_info": {
   "codemirror_mode": {
    "name": "ipython",
    "version": 3
   },
   "file_extension": ".py",
   "mimetype": "text/x-python",
   "name": "python",
   "nbconvert_exporter": "python",
   "pygments_lexer": "ipython3",
   "version": "3.9.5"
  },
  "orig_nbformat": 4,
  "vscode": {
   "interpreter": {
    "hash": "79d71d161e7943240a345005223b4b57f09b9732a24e4917a9c0467b3aef16ea"
   }
  }
 },
 "nbformat": 4,
 "nbformat_minor": 2
}
